{
 "cells": [
  {
   "cell_type": "code",
   "id": "66caaaf301109be5",
   "metadata": {
    "ExecuteTime": {
     "end_time": "2024-12-03T23:25:02.639738200Z",
     "start_time": "2024-12-03T23:25:01.599739800Z"
    }
   },
   "source": [
    "import pandas as pd\n",
    "import process_data"
   ],
   "outputs": [],
   "execution_count": 1
  },
  {
   "cell_type": "markdown",
   "source": [
    "# Preprocess data skaters"
   ],
   "metadata": {
    "collapsed": false
   },
   "id": "de4020d4ba3adc71"
  },
  {
   "cell_type": "code",
   "id": "initial_id",
   "metadata": {
    "collapsed": true,
    "ExecuteTime": {
     "end_time": "2024-12-03T23:25:02.640738500Z",
     "start_time": "2024-12-03T23:25:02.527740200Z"
    }
   },
   "source": [
    "# list of seasons to consider\n",
    "# year_list = ['20142015', '20152016', '20162017', '20172018', '20182019', '20192020', '20202021', '20212022', '20222023', '20232024']\n",
    "year_list = ['20202021', '20212022', '20222023', '20232024']"
   ],
   "outputs": [],
   "execution_count": 2
  },
  {
   "cell_type": "code",
   "id": "b512f6f59f9748a6",
   "metadata": {
    "ExecuteTime": {
     "end_time": "2024-12-03T23:25:02.641742300Z",
     "start_time": "2024-12-03T23:25:02.536746900Z"
    }
   },
   "source": [
    "# find list of teams active between 2014 and 2024\n",
    "team_id_list = []\n",
    "for season in year_list:\n",
    "    for id in process_data.get_season_teams(season):\n",
    "        if id not in team_id_list:\n",
    "            team_id_list.append(id)\n",
    "team_id_list"
   ],
   "outputs": [
    {
     "data": {
      "text/plain": "['EDM',\n 'BOS',\n 'TOR',\n 'COL',\n 'CHI',\n 'WPG',\n 'PIT',\n 'VGK',\n 'FLA',\n 'STL',\n 'NYR',\n 'CAR',\n 'WSH',\n 'MIN',\n 'DAL',\n 'LAK',\n 'VAN',\n 'SJS',\n 'CGY',\n 'TBL',\n 'NYI',\n 'MTL',\n 'CBJ',\n 'ARI',\n 'PHI',\n 'BUF',\n 'DET',\n 'OTT',\n 'NJD',\n 'ANA',\n 'NSH',\n 'SEA']"
     },
     "execution_count": 3,
     "metadata": {},
     "output_type": "execute_result"
    }
   ],
   "execution_count": 3
  },
  {
   "cell_type": "code",
   "source": [
    "len(team_id_list)"
   ],
   "metadata": {
    "collapsed": false,
    "ExecuteTime": {
     "end_time": "2024-12-03T23:25:02.642738800Z",
     "start_time": "2024-12-03T23:25:02.606743500Z"
    }
   },
   "id": "5683e22418088bca",
   "outputs": [
    {
     "data": {
      "text/plain": "32"
     },
     "execution_count": 4,
     "metadata": {},
     "output_type": "execute_result"
    }
   ],
   "execution_count": 4
  },
  {
   "cell_type": "code",
   "id": "8c1a08fb0b2c23",
   "metadata": {
    "ExecuteTime": {
     "end_time": "2024-12-03T23:25:02.988742600Z",
     "start_time": "2024-12-03T23:25:02.628741400Z"
    }
   },
   "source": [
    "# find list of player ids for players who played a game between 2010 and 2020\n",
    "player_id_list = []\n",
    "for team in team_id_list:\n",
    "    for season in year_list:\n",
    "        for id in process_data.get_all_player_ids(season, team):\n",
    "            if id not in player_id_list:\n",
    "                player_id_list.append(id)\n",
    "player_id_list"
   ],
   "outputs": [
    {
     "data": {
      "text/plain": "[8471707,\n 8471729,\n 8474068,\n 8474589,\n 8475163,\n 8475178,\n 8475179,\n 8475197,\n 8476326,\n 8476454,\n 8476457,\n 8476886,\n 8476913,\n 8476915,\n 8477498,\n 8477934,\n 8478021,\n 8478402,\n 8478451,\n 8478452,\n 8479344,\n 8479466,\n 8479977,\n 8480802,\n 8480803,\n 8480946,\n 8481638,\n 8481813,\n 8470281,\n 8473544,\n 8474089,\n 8474098,\n 8475169,\n 8475786,\n 8476495,\n 8476879,\n 8476967,\n 8477943,\n 8477998,\n 8478442,\n 8478585,\n 8479338,\n 8479347,\n 8480041,\n 8481598,\n 8474218,\n 8475218,\n 8475760,\n 8476850,\n 8477406,\n 8479576,\n 8480011,\n 8480468,\n 8482077,\n 8470621,\n 8474040,\n 8474641,\n 8475842,\n 8477015,\n 8477454,\n 8479442,\n 8480274,\n 8481534,\n 8470638,\n 8471276,\n 8473419,\n 8474000,\n 8475186,\n 8475225,\n 8475735,\n 8475745,\n 8475780,\n 8475791,\n 8475797,\n 8476191,\n 8476374,\n 8476422,\n 8476891,\n 8477320,\n 8477365,\n 8477508,\n 8477941,\n 8477956,\n 8478075,\n 8478131,\n 8478415,\n 8478443,\n 8478468,\n 8478485,\n 8478498,\n 8478888,\n 8479325,\n 8479365,\n 8479546,\n 8480001,\n 8480021,\n 8480901,\n 8480944,\n 8482072,\n 8473422,\n 8475287,\n 8475762,\n 8476396,\n 8476854,\n 8477343,\n 8477384,\n 8477931,\n 8482834,\n 8483397,\n 8471873,\n 8475200,\n 8476941,\n 8477479,\n 8477903,\n 8478401,\n 8478421,\n 8479252,\n 8479533,\n 8479968,\n 8480880,\n 8473473,\n 8474031,\n 8474034,\n 8474037,\n 8477126,\n 8477887,\n 8478046,\n 8478409,\n 8478450,\n 8479369,\n 8479638,\n 8479987,\n 8480003,\n 8480070,\n 8481556,\n 8482511,\n 8483505,\n 8483567,\n 8466138,\n 8469455,\n 8474162,\n 8474190,\n 8474567,\n 8474673,\n 8475166,\n 8475718,\n 8475844,\n 8476329,\n 8476474,\n 8476851,\n 8476853,\n 8476918,\n 8477018,\n 8477021,\n 8477149,\n 8477464,\n 8477939,\n 8478115,\n 8478408,\n 8478483,\n 8478996,\n 8479315,\n 8479318,\n 8480043,\n 8480873,\n 8481582,\n 8481624,\n 8482222,\n 8482247,\n 8470966,\n 8473415,\n 8475160,\n 8476278,\n 8477472,\n 8478020,\n 8478047,\n 8478881,\n 8479729,\n 8480144,\n 8480950,\n 8481720,\n 8482634,\n 8482815,\n 8474568,\n 8474818,\n 8475158,\n 8475714,\n 8476931,\n 8476979,\n 8477979,\n 8478043,\n 8478211,\n 8478569,\n 8478843,\n 8479376,\n 8479944,\n 8479982,\n 8480439,\n 8480820,\n 8480977,\n 8480995,\n 8482241,\n 8482259,\n 8482720,\n 8471817,\n 8475906,\n 8476441,\n 8477503,\n 8479320,\n 8479393,\n 8480980,\n 8481122,\n 8483489,\n 8483546,\n 8471262,\n 8473446,\n 8474013,\n 8474685,\n 8474688,\n 8475172,\n 8475747,\n 8475820,\n 8476438,\n 8476455,\n 8477070,\n 8477335,\n 8477435,\n 8477444,\n 8477456,\n 8477492,\n 8477501,\n 8477930,\n 8478038,\n 8478420,\n 8478502,\n 8479370,\n 8479387,\n 8479398,\n 8479439,\n 8480069,\n 8480326,\n 8480748,\n 8480822,\n 8481186,\n 8481524,\n 8481618,\n 8471677,\n 8471699,\n 8471794,\n 8476312,\n 8476870,\n 8477073,\n 8477476,\n 8478106,\n 8479573,\n 8480846,\n 8480913,\n 8481477,\n 8482111,\n 8483570,\n 8474189,\n 8476310,\n 8476442,\n 8476779,\n 8476948,\n 8477971,\n 8478542,\n 8480032,\n 8482147,\n 8482250,\n 8482712,\n 8470610,\n 8475193,\n 8475793,\n 8477425,\n 8477494,\n 8478028,\n 8478508,\n 8479362,\n 8479520,\n 8479525,\n 8479999,\n 8480336,\n 8481641,\n 8484255,\n 8484258,\n 8484259,\n 8474141,\n 8475177,\n 8475204,\n 8475792,\n 8476381,\n 8476473,\n 8476994,\n 8477330,\n 8477474,\n 8477507,\n 8477846,\n 8478027,\n 8478146,\n 8478440,\n 8478874,\n 8479337,\n 8479388,\n 8479523,\n 8479542,\n 8480025,\n 8480293,\n 8480459,\n 8480798,\n 8480814,\n 8480831,\n 8480871,\n 8481147,\n 8481523,\n 8482635,\n 8473604,\n 8474870,\n 8476545,\n 8477495,\n 8479383,\n 8479390,\n 8479404,\n 8480231,\n 8481004,\n 8481568,\n 8482117,\n 8482192,\n 8476960,\n 8477210,\n 8477450,\n 8478224,\n 8478455,\n 8479458,\n 8480252,\n 8480328,\n 8482176,\n 8483619,\n 8477034,\n 8477482,\n 8477987,\n 8478463,\n 8479514,\n 8481806,\n 8482172,\n 8482807,\n 8483466,\n 8483493,\n 8484144,\n 8470775,\n 8471218,\n 8471669,\n 8473453,\n 8473618,\n 8476331,\n 8476392,\n 8476460,\n 8476470,\n 8476952,\n 8477359,\n 8477429,\n 8477504,\n 8477940,\n 8478398,\n 8478424,\n 8478891,\n 8478915,\n 8479339,\n 8479378,\n 8479400,\n 8480005,\n 8480145,\n 8481019,\n 8481572,\n 8474062,\n 8475455,\n 8477220,\n 8478040,\n 8478058,\n 8478431,\n 8479591,\n 8480049,\n 8480192,\n 8480289,\n 8480443,\n 8480990,\n 8482149,\n 8482408,\n 8475799,\n 8476480,\n 8477357,\n 8478476,\n 8478831,\n 8479536,\n 8475726,\n 8476525,\n 8477497,\n 8480014,\n 8480113,\n 8480845,\n 8482787,\n 8483471,\n 8470604,\n 8471215,\n 8471675,\n 8471724,\n 8474134,\n 8475208,\n 8475722,\n 8475810,\n 8476873,\n 8476875,\n 8476927,\n 8477244,\n 8477404,\n 8477680,\n 8477814,\n 8477919,\n 8477953,\n 8477955,\n 8477969,\n 8478017,\n 8478074,\n 8478507,\n 8479293,\n 8480058,\n 8480945,\n 8482055,\n 8470619,\n 8476483,\n 8476934,\n 8478866,\n 8479512,\n 8480842,\n 8481703,\n 8473507,\n 8474009,\n 8475798,\n 8476166,\n 8479423,\n 8479465,\n 8480068,\n 8480172,\n 8480836,\n 8480883,\n 8481591,\n 8474578,\n 8475191,\n 8478400,\n 8478854,\n 8479547,\n 8480205,\n 8481030,\n 8481206,\n 8483401,\n 8474157,\n 8474166,\n 8474207,\n 8474565,\n 8475188,\n 8475913,\n 8476430,\n 8476448,\n 8476539,\n 8476905,\n 8477447,\n 8477478,\n 8477949,\n 8478434,\n 8478462,\n 8479639,\n 8479980,\n 8479996,\n 8480727,\n 8481522,\n 8474149,\n 8476466,\n 8476884,\n 8478403,\n 8479353,\n 8479974,\n 8479991,\n 8480007,\n 8480259,\n 8481032,\n 8481167,\n 8481527,\n 8481604,\n 8481849,\n 8482624,\n 8473548,\n 8475278,\n 8477964,\n 8480776,\n 8476881,\n 8477511,\n 8478396,\n 8480844,\n 8481462,\n 8481600,\n 8482141,\n 8482153,\n 8471735,\n 8471887,\n 8475246,\n 8475462,\n 8476456,\n 8477038,\n 8477346,\n 8477407,\n 8477409,\n 8477493,\n 8477505,\n 8477932,\n 8477935,\n 8477986,\n 8477996,\n 8478055,\n 8478366,\n 8478454,\n 8478906,\n 8478975,\n 8479066,\n 8480015,\n 8480037,\n 8480185,\n 8481442,\n 8482641,\n 8473512,\n 8474610,\n 8475279,\n 8476989,\n 8477462,\n 8477933,\n 8479355,\n 8479553,\n 8479597,\n 8481655,\n 8482113,\n 8470595,\n 8471686,\n 8476393,\n 8476919,\n 8478870,\n 8479314,\n 8479372,\n 8479379,\n 8479578,\n 8483641,\n 8473449,\n 8475171,\n 8475765,\n 8478859,\n 8478904,\n 8479367,\n 8479981,\n 8482088,\n 8482713,\n 8484304,\n 8474102,\n 8474125,\n 8474145,\n 8474618,\n 8474884,\n 8475098,\n 8475170,\n 8475753,\n 8475768,\n 8476792,\n 8476892,\n 8476897,\n 8476907,\n 8477455,\n 8477463,\n 8477573,\n 8478013,\n 8478057,\n 8478104,\n 8478407,\n 8479385,\n 8480023,\n 8475181,\n 8476285,\n 8477402,\n 8479366,\n 8480157,\n 8480281,\n 8481059,\n 8482089,\n 8475752,\n 8476410,\n 8477944,\n 8479375,\n 8481006,\n 8481070,\n 8481543,\n 8482516,\n 8475763,\n 8482737,\n 8482784,\n 8474090,\n 8475184,\n 8475868,\n 8476458,\n 8476459,\n 8476858,\n 8476885,\n 8477380,\n 8477950,\n 8477962,\n 8478550,\n 8479291,\n 8479323,\n 8479324,\n 8479328,\n 8479333,\n 8479364,\n 8479462,\n 8480078,\n 8480817,\n 8480833,\n 8481554,\n 8481708,\n 8482109,\n 8482179,\n 8474027,\n 8476624,\n 8477353,\n 8479447,\n 8480878,\n 8482073,\n 8476389,\n 8477433,\n 8482157,\n 8478458,\n 8481726,\n 8482067,\n 8482460,\n 8482747,\n 8483407,\n 8473533,\n 8474581,\n 8475213,\n 8475825,\n 8475855,\n 8476288,\n 8476323,\n 8476462,\n 8476869,\n 8476882,\n 8476921,\n 8476958,\n 8476975,\n 8477046,\n 8477488,\n 8477938,\n 8478427,\n 8479402,\n 8480039,\n 8480466,\n 8480830,\n 8474613,\n 8478970,\n 8479249,\n 8480083,\n 8480829,\n 8480835,\n 8482093,\n 8470613,\n 8476906,\n 8475744,\n 8480031,\n 8482102,\n 8482666,\n 8482809,\n 8484203,\n 8465009,\n 8471214,\n 8471698,\n 8473563,\n 8474176,\n 8474590,\n 8474602,\n 8475209,\n 8475324,\n 8475343,\n 8475958,\n 8476880,\n 8477290,\n 8477314,\n 8477544,\n 8477839,\n 8477845,\n 8477901,\n 8478399,\n 8478466,\n 8479516,\n 8481580,\n 8475149,\n 8475625,\n 8475728,\n 8479321,\n 8479359,\n 8479395,\n 8479482,\n 8480087,\n 8480796,\n 8480823,\n 8481441,\n 8481517,\n 8481656,\n 8482148,\n 8475795,\n 8477947,\n 8478506,\n 8482861,\n 8479522,\n 8483491,\n 8483920,\n 8470600,\n 8474716,\n 8474749,\n 8475220,\n 8475692,\n 8476390,\n 8476415,\n 8476437,\n 8476463,\n 8476856,\n 8477366,\n 8477369,\n 8477451,\n 8477541,\n 8477942,\n 8478011,\n 8478413,\n 8478493,\n 8478864,\n 8479933,\n 8480884,\n 8471274,\n 8475235,\n 8475750,\n 8478136,\n 8479972,\n 8481489,\n 8481550,\n 8481557,\n 8482070,\n 8482079,\n 8474679,\n 8479351,\n 8480267,\n 8480275,\n 8480994,\n 8482122,\n 8481422,\n 8482094,\n 8482177,\n 8482197,\n 8483499,\n 8470794,\n 8471228,\n 8471260,\n 8471284,\n 8473994,\n 8475222,\n 8475413,\n 8475794,\n 8475796,\n 8476467,\n 8476889,\n 8476902,\n 8477810,\n 8478449,\n 8478495,\n 8478528,\n 8479381,\n 8479587,\n 8480027,\n 8480036,\n 8480769,\n 8480848,\n 8476822,\n 8479518,\n 8480216,\n 8480226,\n 8480988,\n 8481581,\n 8481712,\n 8482740,\n 8475168,\n 8475690,\n 8475755,\n 8482145,\n 8482702,\n 8470606,\n 8471685,\n 8474563,\n 8475729,\n 8476874,\n 8476924,\n 8477960,\n 8478846,\n 8478911,\n 8479336,\n 8479348,\n 8479644,\n 8479675,\n 8479994,\n 8479998,\n 8480072,\n 8480221,\n 8480467,\n 8481481,\n 8481560,\n 8482124,\n 8471303,\n 8476391,\n 8476479,\n 8478042,\n 8478250,\n 8479421,\n 8480434,\n 8481239,\n 8481532,\n 8481606,\n 8478882,\n 8479772,\n 8482730,\n 8480851,\n 8482155,\n 8470626,\n 8474091,\n 8474291,\n 8474574,\n 8474612,\n 8474849,\n 8476344,\n 8476468,\n 8476871,\n 8477473,\n 8477500,\n 8477937,\n 8477963,\n 8478444,\n 8478465,\n 8479986,\n 8480012,\n 8480056,\n 8480800,\n 8481479,\n 8481535,\n 8482063,\n 8470755,\n 8478856,\n 8481617,\n 8478967,\n 8479425,\n 8481683,\n 8482496,\n 8482691,\n 8483808,\n 8484254,\n 8484287,\n 8477496,\n 8481024,\n 8483395,\n 8466139,\n 8471709,\n 8474053,\n 8475834,\n 8476368,\n 8478099,\n 8478414,\n 8478467,\n 8478868,\n 8479571,\n 8479580,\n 8479705,\n 8479983,\n 8480053,\n 8480160,\n 8480276,\n 8480384,\n 8480965,\n 8481077,\n 8481516,\n 8481640,\n 8481812,\n 8482248,\n 8482369,\n 8478447,\n 8479373,\n 8480060,\n 8480304,\n 8480847,\n 8481061,\n 8481552,\n 8481701,\n 8482133,\n 8482667,\n 8475461,\n 8476449,\n 8476988,\n 8477341,\n 8478067,\n 8479304,\n 8479316,\n 8480188,\n 8481567,\n 8482101,\n 8482181,\n 8482824,\n 8480821,\n 8480834,\n 8481537,\n 8482144,\n 8482166,\n 8484911,\n 8474150,\n 8474628,\n 8474736,\n 8475807,\n 8476300,\n 8476346,\n 8476439,\n 8478233,\n 8478397,\n 8478430,\n 8478446,\n 8479346,\n 8479976,\n 8480008,\n 8475790,\n 8476399,\n 8482652,\n 8480084,\n 8481592,\n 8482679,\n 8477851,\n 8481028,\n 8481068,\n 8482074,\n 8482165,\n 8482470,\n 8483609,\n 8473986,\n 8474151,\n 8474564,\n 8475167,\n 8475233,\n 8476292,\n 8476826,\n 8476966,\n 8478010,\n 8478049,\n 8478069,\n 8478416,\n 8478472,\n 8478477,\n 8478519,\n 8479410,\n 8479718,\n 8479984,\n 8480158,\n 8480186,\n 8476453,\n 8477205,\n 8477426,\n 8477461,\n 8478178,\n 8479413,\n 8480863,\n 8479026,\n 8479661,\n 8480246,\n 8481043,\n 8475766,\n 8481719,\n 8482201,\n 8482929,\n 8483398,\n 8484325,\n 8470601,\n 8471233,\n 8472382,\n 8473463,\n 8473504,\n 8474066,\n 8474573,\n 8474586,\n 8474709,\n 8475151,\n 8475231,\n 8475314,\n 8475754,\n 8476419,\n 8476429,\n 8476917,\n ...]"
     },
     "execution_count": 5,
     "metadata": {},
     "output_type": "execute_result"
    }
   ],
   "execution_count": 5
  },
  {
   "cell_type": "code",
   "id": "1b1cc6b9",
   "metadata": {
    "ExecuteTime": {
     "end_time": "2024-12-03T23:25:03.005743400Z",
     "start_time": "2024-12-03T23:25:02.840738500Z"
    }
   },
   "source": [
    "len(player_id_list)"
   ],
   "outputs": [
    {
     "data": {
      "text/plain": "1351"
     },
     "execution_count": 6,
     "metadata": {},
     "output_type": "execute_result"
    }
   ],
   "execution_count": 6
  },
  {
   "cell_type": "code",
   "id": "2cd1cac377379ba7",
   "metadata": {
    "ExecuteTime": {
     "end_time": "2024-12-03T23:25:05.277745400Z",
     "start_time": "2024-12-03T23:25:02.852742200Z"
    }
   },
   "source": [
    "# extract data about all players who played between 2010 and 2020, including personal data and stats from every season in the NHL during that period\n",
    "player_stats = []\n",
    "for player_id in player_id_list:\n",
    "    try:\n",
    "        pl_class = process_data.load_player(player_id, year_list)\n",
    "        player_stats.append(pl_class)\n",
    "    except Exception as e:\n",
    "        print(e)\n",
    "        continue"
   ],
   "outputs": [
    {
     "name": "stderr",
     "output_type": "stream",
     "text": [
      "\n",
      "KeyboardInterrupt\n",
      "\n"
     ]
    }
   ],
   "execution_count": 7
  },
  {
   "cell_type": "code",
   "id": "8c5cd41438c39570",
   "metadata": {
    "ExecuteTime": {
     "start_time": "2024-12-03T23:25:05.274740900Z"
    }
   },
   "source": [
    "# total number of players extracted\n",
    "len(player_stats)"
   ],
   "outputs": [],
   "execution_count": null
  },
  {
   "cell_type": "markdown",
   "source": [
    "# Clean data"
   ],
   "metadata": {
    "collapsed": false
   },
   "id": "84a64994531a1464"
  },
  {
   "cell_type": "code",
   "id": "fa64daed026a2900",
   "metadata": {
    "ExecuteTime": {
     "start_time": "2024-12-03T23:25:05.280740500Z"
    }
   },
   "source": [
    "# restrict to players who played at least 3 seasons and 100 total games\n",
    "reduced_player_stats = []\n",
    "for temp in player_stats:\n",
    "    games = 0\n",
    "    years = 0\n",
    "    for year in year_list:\n",
    "        if year in temp.seasons.keys():\n",
    "            games += temp.seasons[year].n_games_played\n",
    "            years += 1\n",
    "    if years >= 3 and games > 100:\n",
    "        reduced_player_stats.append(temp)"
   ],
   "outputs": [],
   "execution_count": null
  },
  {
   "cell_type": "code",
   "id": "583ad0adc747c096",
   "metadata": {
    "ExecuteTime": {
     "start_time": "2024-12-03T23:25:05.286741300Z"
    }
   },
   "source": [
    "# number of players with at least 3 seasons and 100 games\n",
    "len(reduced_player_stats)"
   ],
   "outputs": [],
   "execution_count": null
  },
  {
   "cell_type": "code",
   "id": "d3a391e7013d581",
   "metadata": {
    "ExecuteTime": {
     "end_time": "2024-12-03T23:25:05.299743600Z",
     "start_time": "2024-12-03T23:25:05.293741600Z"
    }
   },
   "source": [
    "# create data for prediction, with every possible set of 2 consecutive seasons to predict the 3rd one\n",
    "split_data = []\n",
    "for player in reduced_player_stats:\n",
    "    for i in range(len(year_list) - 2):\n",
    "        years = year_list[i:i+3]\n",
    "        if years[2] in player.seasons.keys():\n",
    "            data = {'name': player.name,\n",
    "                    'role': player.role,\n",
    "                    'country': player.country,\n",
    "                    'age': player.age,\n",
    "                    'id': player.id,\n",
    "                    'height': player.height,\n",
    "                    'weight': player.weight\n",
    "                    }\n",
    "            data = {**data, **process_data.get_year_data_skaters(player, years[0], '1'), **process_data.get_year_data_skaters(player, years[1], '2')}\n",
    "            data['season_1'] = years[0]\n",
    "            data['season_2'] = years[1]\n",
    "            data['season_3'] = years[2]\n",
    "            data['ppg_3'] = player.get_ratio_season_points(years[2])\n",
    "            split_data.append(data)"
   ],
   "outputs": [],
   "execution_count": null
  },
  {
   "cell_type": "code",
   "id": "f8f5d13367c2fb65",
   "metadata": {
    "ExecuteTime": {
     "end_time": "2024-12-03T23:25:05.301738800Z",
     "start_time": "2024-12-03T23:25:05.300743400Z"
    }
   },
   "source": [
    "# transform the data into a pandas dtaframe for processing\n",
    "df = pd.DataFrame(split_data)\n",
    "df"
   ],
   "outputs": [],
   "execution_count": null
  },
  {
   "cell_type": "code",
   "id": "0763b2e5",
   "metadata": {
    "ExecuteTime": {
     "end_time": "2024-12-03T23:25:05.357741200Z",
     "start_time": "2024-12-03T23:25:05.310738700Z"
    }
   },
   "source": [
    "df = process_data.process_data_skaters(df)"
   ],
   "outputs": [],
   "execution_count": null
  },
  {
   "cell_type": "code",
   "id": "619b8054",
   "metadata": {
    "ExecuteTime": {
     "start_time": "2024-12-03T23:25:05.317747600Z"
    }
   },
   "source": [
    "# select only relevant columns\n",
    "df_final = df[['games_1', 'games_2', 'goals_1', 'goals_2',\n",
    "               'height', 'pim_1',\n",
    "               'pim_2', 'plus_minus_1', 'plus_minus_2', 'role',\n",
    "               'ppg_3', 'shots_1', 'shots_2', 'time_1',\n",
    "               'time_2', 'weight', 'points_1', 'points_2', 'age']]"
   ],
   "outputs": [],
   "execution_count": null
  },
  {
   "cell_type": "code",
   "id": "56fec6da",
   "metadata": {
    "ExecuteTime": {
     "start_time": "2024-12-03T23:25:05.323736700Z"
    }
   },
   "source": [
    "# transform position columns into one-hot encoded features\n",
    "df_final = pd.get_dummies(df_final, columns=['role'])"
   ],
   "outputs": [],
   "execution_count": null
  },
  {
   "cell_type": "code",
   "id": "1c7e156d",
   "metadata": {
    "ExecuteTime": {
     "start_time": "2024-12-03T23:25:05.330741800Z"
    }
   },
   "source": [
    "# restrict to lines with some games played in one of the two seasons at least\n",
    "df_final = df_final[(df_final['games_1']!=0)|(df_final['games_2']!=0)]"
   ],
   "outputs": [],
   "execution_count": null
  },
  {
   "cell_type": "code",
   "id": "7f61d869",
   "metadata": {
    "ExecuteTime": {
     "start_time": "2024-12-03T23:25:05.338736800Z"
    }
   },
   "source": [
    "# replace NaN by zero because they come from seasons where the player did not play\n",
    "df_final = df_final.fillna(0)"
   ],
   "outputs": [],
   "execution_count": null
  },
  {
   "cell_type": "code",
   "id": "947f1f6c",
   "metadata": {
    "ExecuteTime": {
     "start_time": "2024-12-03T23:25:05.352738600Z"
    }
   },
   "source": [
    "df_final"
   ],
   "outputs": [],
   "execution_count": null
  },
  {
   "cell_type": "markdown",
   "source": [
    "# Predict points per game"
   ],
   "metadata": {
    "collapsed": false
   },
   "id": "19997c23dbe23768"
  },
  {
   "cell_type": "code",
   "id": "6d4f06ef",
   "metadata": {
    "ExecuteTime": {
     "end_time": "2024-12-03T23:25:05.378737500Z",
     "start_time": "2024-12-03T23:25:05.360745600Z"
    }
   },
   "source": [
    "from sklearn.linear_model import LinearRegression\n",
    "from sklearn.model_selection import train_test_split\n",
    "from sklearn.metrics import root_mean_squared_error"
   ],
   "outputs": [],
   "execution_count": null
  },
  {
   "cell_type": "code",
   "id": "723fce8a",
   "metadata": {
    "ExecuteTime": {
     "start_time": "2024-12-03T23:25:05.365737600Z"
    }
   },
   "source": [
    "# split label column from the features\n",
    "X = df_final.drop(['ppg_3'], axis=1)\n",
    "y = df_final['ppg_3']\n",
    "\n",
    "# split data into train and test\n",
    "X_train, X_test, y_train, y_test = train_test_split(X, y, test_size=0.15)"
   ],
   "outputs": [],
   "execution_count": null
  },
  {
   "cell_type": "code",
   "id": "3516a477",
   "metadata": {
    "ExecuteTime": {
     "start_time": "2024-12-03T23:25:05.370743800Z"
    }
   },
   "source": [
    "print('Number of training data:', len(X_train))\n",
    "print('Number of testing data:', len(X_test))"
   ],
   "outputs": [],
   "execution_count": null
  },
  {
   "cell_type": "code",
   "id": "f37b63f2",
   "metadata": {
    "ExecuteTime": {
     "start_time": "2024-12-03T23:25:05.375736900Z"
    }
   },
   "source": [
    "# find mean and std of columns that were not normalized by the number of games\n",
    "standardization = {}\n",
    "for col in ['height', 'weight', 'age', 'plus_minus_1', 'plus_minus_2', 'time_1', 'time_2']:\n",
    "    mu = X_train[col].mean()\n",
    "    sig = X_train[col].std()\n",
    "    standardization[col] = {'mu': mu, 'sig': sig}\n",
    "\n",
    "standardization"
   ],
   "outputs": [],
   "execution_count": null
  },
  {
   "cell_type": "code",
   "id": "7ccbf2fd",
   "metadata": {
    "ExecuteTime": {
     "start_time": "2024-12-03T23:25:05.380736800Z"
    }
   },
   "source": [
    "# function to normalize the data\n",
    "def normalize_data(data):\n",
    "    for col in ['height', 'weight', 'age', 'plus_minus_1', 'plus_minus_2', 'time_1', 'time_2']:\n",
    "        data[col] = (data[col] - standardization[col]['mu']) / standardization[col]['sig']\n",
    "    return data"
   ],
   "outputs": [],
   "execution_count": null
  },
  {
   "cell_type": "code",
   "id": "eda64b62",
   "metadata": {
    "ExecuteTime": {
     "start_time": "2024-12-03T23:25:05.386740600Z"
    }
   },
   "source": [
    "# normalize the data \n",
    "X_train = normalize_data(X_train)\n",
    "X_test = normalize_data(X_test)"
   ],
   "outputs": [],
   "execution_count": null
  },
  {
   "cell_type": "code",
   "id": "1bd0341d",
   "metadata": {
    "ExecuteTime": {
     "start_time": "2024-12-03T23:25:05.391740800Z"
    }
   },
   "source": [
    "# use last season's points as benchmark prediction\n",
    "print('RMSE:', root_mean_squared_error(X_test['points_2'], y_test))"
   ],
   "outputs": [],
   "execution_count": null
  },
  {
   "cell_type": "code",
   "id": "1beb06d4",
   "metadata": {
    "ExecuteTime": {
     "start_time": "2024-12-03T23:25:05.394739600Z"
    }
   },
   "source": [
    "# train a linear regression model and evaluate on test data\n",
    "model = LinearRegression().fit(X_train, y_train)\n",
    "\n",
    "print('RMSE:', root_mean_squared_error(model.predict(X_test), y_test))"
   ],
   "outputs": [],
   "execution_count": null
  },
  {
   "cell_type": "code",
   "id": "88b3a4ef",
   "metadata": {
    "ExecuteTime": {
     "start_time": "2024-12-03T23:25:05.397736100Z"
    }
   },
   "source": [
    "import matplotlib.pyplot as plt\n",
    "\n",
    "fig, ax = plt.subplots()\n",
    "ax.scatter(y_test, model.predict(X_test), edgecolors=(0, 0, 0))\n",
    "ax.plot([y_test.min(), y_test.max()], [y_test.min(), y_test.max()], 'k-', lw=2)\n",
    "ax.set_xlabel('Target Pts/gm', size='x-large')\n",
    "ax.set_ylabel('Predicted Pts/gm', size='x-large')\n",
    "plt.savefig('plot.png')"
   ],
   "outputs": [],
   "execution_count": null
  },
  {
   "cell_type": "code",
   "id": "3f774bf3",
   "metadata": {
    "ExecuteTime": {
     "start_time": "2024-12-03T23:25:05.400738Z"
    }
   },
   "source": [
    "# extract data for the last two seasons to predict the new one\n",
    "pred_data = []\n",
    "for player in player_stats:\n",
    "        years = ['20222023', '20232024', '20242025']\n",
    "        data = {'name': player.name,\n",
    "                'role': player.role,\n",
    "                'country': player.country,\n",
    "                'age': player.age,\n",
    "                'id': player.id,\n",
    "                'height': player.height,\n",
    "                'weight': player.weight\n",
    "                }\n",
    "        data = {**data, **process_data.get_year_data_skaters(player, years[0], '1'), **process_data.get_year_data_skaters(player, years[1], '2')}\n",
    "        data['season_1'] = years[0]\n",
    "        data['season_2'] = years[1]\n",
    "        data['season_3'] = years[2]\n",
    "        pred_data.append(data)"
   ],
   "outputs": [],
   "execution_count": null
  },
  {
   "cell_type": "code",
   "id": "d5bbfb10",
   "metadata": {
    "ExecuteTime": {
     "start_time": "2024-12-03T23:25:05.405739200Z"
    }
   },
   "source": [
    "df_pred = pd.DataFrame(pred_data)\n",
    "df_pred"
   ],
   "outputs": [],
   "execution_count": null
  },
  {
   "cell_type": "code",
   "id": "460ee718",
   "metadata": {
    "ExecuteTime": {
     "start_time": "2024-12-03T23:25:05.409737500Z"
    }
   },
   "source": [
    "df_pred = process_data.process_data_skaters(df_pred)\n",
    "df_pred = df_pred[df_pred['role']!='N/A']"
   ],
   "outputs": [],
   "execution_count": null
  },
  {
   "cell_type": "code",
   "id": "00f55a02",
   "metadata": {
    "ExecuteTime": {
     "start_time": "2024-12-03T23:25:05.411740Z"
    }
   },
   "source": [
    "df_pred_final = df_pred[['name', 'games_1', 'games_2', 'goals_1', 'goals_2',\n",
    "               'height', 'pim_1',\n",
    "               'pim_2', 'plus_minus_1', 'plus_minus_2', 'role',\n",
    "               'shots_1', 'shots_2', 'time_1',\n",
    "               'time_2', 'weight', 'points_1', 'points_2', 'age']]\n",
    "\n",
    "df_pred_final = df_pred_final.fillna(0)\n",
    "df_pred_final = pd.get_dummies(df_pred_final, columns=['role'])\n",
    "\n",
    "df_pred_final = normalize_data(df_pred_final)"
   ],
   "outputs": [],
   "execution_count": null
  },
  {
   "cell_type": "code",
   "id": "441a41a2",
   "metadata": {
    "ExecuteTime": {
     "start_time": "2024-12-03T23:25:05.414738100Z"
    }
   },
   "source": [
    "predictions = df_pred_final[['name']]\n",
    "predictions['ppg'] = model.predict(df_pred_final.drop('name', axis=1))\n",
    "predictions = predictions.groupby(['name']).max().reset_index()"
   ],
   "outputs": [],
   "execution_count": null
  },
  {
   "cell_type": "code",
   "id": "e0787dcb",
   "metadata": {
    "ExecuteTime": {
     "start_time": "2024-12-03T23:25:05.420738600Z"
    }
   },
   "source": [
    "predictions = predictions.sort_values('ppg', ascending=False)\n",
    "predictions"
   ],
   "outputs": [],
   "execution_count": null
  },
  {
   "cell_type": "code",
   "source": [
    "final_player_list = []\n",
    "for player_name in predictions['name'].unique():\n",
    "    for player in reduced_player_stats:\n",
    "        if player.name == player_name:\n",
    "            player.predict_points = predictions.loc[predictions['name']==player_name]['ppg'].item()\n",
    "            if player.predict_points > 0:\n",
    "                final_player_list.append(player)"
   ],
   "metadata": {
    "collapsed": false,
    "ExecuteTime": {
     "start_time": "2024-12-03T23:25:05.423735600Z"
    }
   },
   "id": "a2f7f71181c9ce9f",
   "outputs": [],
   "execution_count": null
  },
  {
   "cell_type": "code",
   "source": [
    "final_player_list = final_player_list[:]\n",
    "player_roles = [p.role for p in final_player_list]\n",
    "print(\"Players Composition\", player_roles.count('A'), 'A,', player_roles.count('D'), 'D,', player_roles.count('G'), 'G')\n"
   ],
   "metadata": {
    "collapsed": false,
    "ExecuteTime": {
     "start_time": "2024-12-03T23:25:05.427737800Z"
    }
   },
   "id": "e7cbda846da84b61",
   "outputs": [],
   "execution_count": null
  },
  {
   "cell_type": "markdown",
   "source": [
    "# Branch-and-Bound Algorithm to choose the best pool team"
   ],
   "metadata": {
    "collapsed": false
   },
   "id": "8cf7801f6a7805f3"
  },
  {
   "cell_type": "code",
   "source": [
    "from pool_classifier import team_optimization_branch_and_bound, solve_problem"
   ],
   "metadata": {
    "collapsed": false,
    "ExecuteTime": {
     "end_time": "2024-12-03T23:25:05.452739200Z",
     "start_time": "2024-12-03T23:25:05.430735800Z"
    }
   },
   "id": "3f2ea2a279012374",
   "outputs": [],
   "execution_count": null
  },
  {
   "cell_type": "code",
   "source": [
    "# resolving using LP livrary to compare results\n",
    "selected_players, total_ppg, total_salary = solve_problem(final_player_list.copy())\n",
    "print(\"Selected Players:\", selected_players)\n",
    "print(\"Total PPG:\", total_ppg)\n",
    "print(\"Total Salary:\", total_salary)"
   ],
   "metadata": {
    "collapsed": false,
    "ExecuteTime": {
     "start_time": "2024-12-03T23:25:05.432736700Z"
    }
   },
   "id": "ceff452010561138",
   "outputs": [],
   "execution_count": null
  },
  {
   "cell_type": "code",
   "source": [
    "# algo branch-and-bound custom made\n",
    "best_team, best_ppg = team_optimization_branch_and_bound(final_player_list.copy())\n",
    "print(\"Selected Players:\", [p.name for p in best_team])\n",
    "print(\"Total PPG:\", best_ppg)\n",
    "print(\"Total Salary:\", sum(p.salary for p in best_team))\n",
    "team_roles = [p.role for p in best_team]\n",
    "print(\"Team Composition\", team_roles.count('A'), 'A,', team_roles.count('D'), 'D,', team_roles.count('G'), 'G')\n",
    "\n",
    "results = []\n",
    "for player in best_team:\n",
    "    results.append([player.id, player.name, player.salary, player.predict_points])\n",
    "pd.DataFrame(results, columns=['id', 'name', 'salary', 'ppg']).to_csv('meilleure_solution.csv')"
   ],
   "metadata": {
    "collapsed": false,
    "ExecuteTime": {
     "start_time": "2024-12-03T23:25:05.436743700Z"
    }
   },
   "id": "69ffeb1549802be8",
   "outputs": [],
   "execution_count": null
  }
 ],
 "metadata": {
  "kernelspec": {
   "display_name": "IFT3700_Devoir2",
   "language": "python",
   "name": "python3"
  },
  "language_info": {
   "codemirror_mode": {
    "name": "ipython",
    "version": 3
   },
   "file_extension": ".py",
   "mimetype": "text/x-python",
   "name": "python",
   "nbconvert_exporter": "python",
   "pygments_lexer": "ipython3",
   "version": "3.9.20"
  }
 },
 "nbformat": 4,
 "nbformat_minor": 5
}
