{
 "cells": [
  {
   "cell_type": "code",
   "execution_count": 1,
   "id": "66caaaf301109be5",
   "metadata": {
    "ExecuteTime": {
     "end_time": "2024-12-03T21:44:17.868389100Z",
     "start_time": "2024-12-03T21:44:16.394390800Z"
    }
   },
   "outputs": [],
   "source": [
    "import pandas as pd\n",
    "import process_data"
   ]
  },
  {
   "cell_type": "markdown",
   "source": [
    "# Preprocess data skaters"
   ],
   "metadata": {
    "collapsed": false
   },
   "id": "de4020d4ba3adc71"
  },
  {
   "cell_type": "code",
   "execution_count": 2,
   "id": "initial_id",
   "metadata": {
    "collapsed": true,
    "ExecuteTime": {
     "end_time": "2024-12-03T21:44:17.883396Z",
     "start_time": "2024-12-03T21:44:17.871433400Z"
    }
   },
   "outputs": [],
   "source": [
    "# list of seasons to consider\n",
    "# year_list = ['20142015', '20152016', '20162017', '20172018', '20182019', '20192020', '20202021', '20212022', '20222023', '20232024']\n",
    "year_list = ['20202021', '20212022', '20222023', '20232024']"
   ]
  },
  {
   "cell_type": "code",
   "execution_count": 3,
   "id": "b512f6f59f9748a6",
   "metadata": {
    "ExecuteTime": {
     "end_time": "2024-12-03T21:44:17.931404600Z",
     "start_time": "2024-12-03T21:44:17.886396200Z"
    }
   },
   "outputs": [
    {
     "data": {
      "text/plain": "['EDM',\n 'BOS',\n 'TOR',\n 'COL',\n 'CHI',\n 'WPG',\n 'PIT',\n 'VGK',\n 'FLA',\n 'STL',\n 'NYR',\n 'CAR',\n 'WSH',\n 'MIN',\n 'DAL',\n 'LAK',\n 'VAN',\n 'SJS',\n 'CGY',\n 'TBL',\n 'NYI',\n 'MTL',\n 'CBJ',\n 'ARI',\n 'PHI',\n 'BUF',\n 'DET',\n 'OTT',\n 'NJD',\n 'ANA',\n 'NSH',\n 'SEA']"
     },
     "execution_count": 3,
     "metadata": {},
     "output_type": "execute_result"
    }
   ],
   "source": [
    "# find list of teams active between 2014 and 2024\n",
    "team_id_list = []\n",
    "for season in year_list:\n",
    "    for id in process_data.get_season_teams(season):\n",
    "        if id not in team_id_list:\n",
    "            team_id_list.append(id)\n",
    "team_id_list"
   ]
  },
  {
   "cell_type": "code",
   "execution_count": 4,
   "outputs": [
    {
     "data": {
      "text/plain": "32"
     },
     "execution_count": 4,
     "metadata": {},
     "output_type": "execute_result"
    }
   ],
   "source": [
    "len(team_id_list)"
   ],
   "metadata": {
    "collapsed": false,
    "ExecuteTime": {
     "end_time": "2024-12-03T21:44:17.956390Z",
     "start_time": "2024-12-03T21:44:17.933391900Z"
    }
   },
   "id": "5683e22418088bca"
  },
  {
   "cell_type": "code",
   "execution_count": 5,
   "id": "8c1a08fb0b2c23",
   "metadata": {
    "ExecuteTime": {
     "end_time": "2024-12-03T21:44:18.184393700Z",
     "start_time": "2024-12-03T21:44:17.950397700Z"
    }
   },
   "outputs": [
    {
     "data": {
      "text/plain": "[8471707,\n 8471729,\n 8474068,\n 8474589,\n 8475163,\n 8475178,\n 8475179,\n 8475197,\n 8476326,\n 8476454,\n 8476457,\n 8476886,\n 8476913,\n 8476915,\n 8477498,\n 8477934,\n 8478021,\n 8478402,\n 8478451,\n 8478452,\n 8479344,\n 8479466,\n 8479977,\n 8480802,\n 8480803,\n 8480946,\n 8481638,\n 8481813,\n 8470281,\n 8473544,\n 8474089,\n 8474098,\n 8475169,\n 8475786,\n 8476495,\n 8476879,\n 8476967,\n 8477943,\n 8477998,\n 8478442,\n 8478585,\n 8479338,\n 8479347,\n 8480041,\n 8481598,\n 8474218,\n 8475218,\n 8475760,\n 8476850,\n 8477406,\n 8479576,\n 8480011,\n 8480468,\n 8482077,\n 8470621,\n 8474040,\n 8474641,\n 8475842,\n 8477015,\n 8477454,\n 8479442,\n 8480274,\n 8481534,\n 8470638,\n 8471276,\n 8473419,\n 8474000,\n 8475186,\n 8475225,\n 8475735,\n 8475745,\n 8475780,\n 8475791,\n 8475797,\n 8476191,\n 8476374,\n 8476422,\n 8476891,\n 8477320,\n 8477365,\n 8477508,\n 8477941,\n 8477956,\n 8478075,\n 8478131,\n 8478415,\n 8478443,\n 8478468,\n 8478485,\n 8478498,\n 8478888,\n 8479325,\n 8479365,\n 8479546,\n 8480001,\n 8480021,\n 8480901,\n 8480944,\n 8482072,\n 8473422,\n 8475287,\n 8475762,\n 8476396,\n 8476854,\n 8477343,\n 8477384,\n 8477931,\n 8482834,\n 8483397,\n 8471873,\n 8475200,\n 8476941,\n 8477479,\n 8477903,\n 8478401,\n 8478421,\n 8479252,\n 8479533,\n 8479968,\n 8480880,\n 8473473,\n 8474031,\n 8474034,\n 8474037,\n 8477126,\n 8477887,\n 8478046,\n 8478409,\n 8478450,\n 8479369,\n 8479638,\n 8479987,\n 8480003,\n 8480070,\n 8481556,\n 8482511,\n 8483505,\n 8483567,\n 8466138,\n 8469455,\n 8474162,\n 8474190,\n 8474567,\n 8474673,\n 8475166,\n 8475718,\n 8475844,\n 8476329,\n 8476474,\n 8476851,\n 8476853,\n 8476918,\n 8477018,\n 8477021,\n 8477149,\n 8477464,\n 8477939,\n 8478115,\n 8478408,\n 8478483,\n 8478996,\n 8479315,\n 8479318,\n 8480043,\n 8480873,\n 8481582,\n 8481624,\n 8482222,\n 8482247,\n 8470966,\n 8473415,\n 8475160,\n 8476278,\n 8477472,\n 8478020,\n 8478047,\n 8478881,\n 8479729,\n 8480144,\n 8480950,\n 8481720,\n 8482634,\n 8482815,\n 8474568,\n 8474818,\n 8475158,\n 8475714,\n 8476931,\n 8476979,\n 8477979,\n 8478043,\n 8478211,\n 8478569,\n 8478843,\n 8479376,\n 8479944,\n 8479982,\n 8480439,\n 8480820,\n 8480977,\n 8480995,\n 8482241,\n 8482259,\n 8482720,\n 8471817,\n 8475906,\n 8476441,\n 8477503,\n 8479320,\n 8479393,\n 8480980,\n 8481122,\n 8483489,\n 8483546,\n 8471262,\n 8473446,\n 8474013,\n 8474685,\n 8474688,\n 8475172,\n 8475747,\n 8475820,\n 8476438,\n 8476455,\n 8477070,\n 8477335,\n 8477435,\n 8477444,\n 8477456,\n 8477492,\n 8477501,\n 8477930,\n 8478038,\n 8478420,\n 8478502,\n 8479370,\n 8479387,\n 8479398,\n 8479439,\n 8480069,\n 8480326,\n 8480748,\n 8480822,\n 8481186,\n 8481524,\n 8481618,\n 8471677,\n 8471699,\n 8471794,\n 8476312,\n 8476870,\n 8477073,\n 8477476,\n 8478106,\n 8479573,\n 8480846,\n 8480913,\n 8481477,\n 8482111,\n 8483570,\n 8474189,\n 8476310,\n 8476442,\n 8476779,\n 8476948,\n 8477971,\n 8478542,\n 8480032,\n 8482147,\n 8482250,\n 8482712,\n 8470610,\n 8475193,\n 8475793,\n 8477425,\n 8477494,\n 8478028,\n 8478508,\n 8479362,\n 8479520,\n 8479525,\n 8479999,\n 8480336,\n 8481641,\n 8484255,\n 8484258,\n 8484259,\n 8474141,\n 8475177,\n 8475204,\n 8475792,\n 8476381,\n 8476473,\n 8476994,\n 8477330,\n 8477474,\n 8477507,\n 8477846,\n 8478027,\n 8478146,\n 8478440,\n 8478874,\n 8479337,\n 8479388,\n 8479523,\n 8479542,\n 8480025,\n 8480293,\n 8480459,\n 8480798,\n 8480814,\n 8480831,\n 8480871,\n 8481147,\n 8481523,\n 8482635,\n 8473604,\n 8474870,\n 8476545,\n 8477495,\n 8479383,\n 8479390,\n 8479404,\n 8480231,\n 8481004,\n 8481568,\n 8482117,\n 8482192,\n 8476960,\n 8477210,\n 8477450,\n 8478224,\n 8478455,\n 8479458,\n 8480252,\n 8480328,\n 8482176,\n 8483619,\n 8477034,\n 8477482,\n 8477987,\n 8478463,\n 8479514,\n 8481806,\n 8482172,\n 8482807,\n 8483466,\n 8483493,\n 8484144,\n 8470775,\n 8471218,\n 8471669,\n 8473453,\n 8473618,\n 8476331,\n 8476392,\n 8476460,\n 8476470,\n 8476952,\n 8477359,\n 8477429,\n 8477504,\n 8477940,\n 8478398,\n 8478424,\n 8478891,\n 8478915,\n 8479339,\n 8479378,\n 8479400,\n 8480005,\n 8480145,\n 8481019,\n 8481572,\n 8474062,\n 8475455,\n 8477220,\n 8478040,\n 8478058,\n 8478431,\n 8479591,\n 8480049,\n 8480192,\n 8480289,\n 8480443,\n 8480990,\n 8482149,\n 8482408,\n 8475799,\n 8476480,\n 8477357,\n 8478476,\n 8478831,\n 8479536,\n 8475726,\n 8476525,\n 8477497,\n 8480014,\n 8480113,\n 8480845,\n 8482787,\n 8483471,\n 8470604,\n 8471215,\n 8471675,\n 8471724,\n 8474134,\n 8475208,\n 8475722,\n 8475810,\n 8476873,\n 8476875,\n 8476927,\n 8477244,\n 8477404,\n 8477680,\n 8477814,\n 8477919,\n 8477953,\n 8477955,\n 8477969,\n 8478017,\n 8478074,\n 8478507,\n 8479293,\n 8480058,\n 8480945,\n 8482055,\n 8470619,\n 8476483,\n 8476934,\n 8478866,\n 8479512,\n 8480842,\n 8481703,\n 8473507,\n 8474009,\n 8475798,\n 8476166,\n 8479423,\n 8479465,\n 8480068,\n 8480172,\n 8480836,\n 8480883,\n 8481591,\n 8474578,\n 8475191,\n 8478400,\n 8478854,\n 8479547,\n 8480205,\n 8481030,\n 8481206,\n 8483401,\n 8474157,\n 8474166,\n 8474207,\n 8474565,\n 8475188,\n 8475913,\n 8476430,\n 8476448,\n 8476539,\n 8476905,\n 8477447,\n 8477478,\n 8477949,\n 8478434,\n 8478462,\n 8479639,\n 8479980,\n 8479996,\n 8480727,\n 8481522,\n 8474149,\n 8476466,\n 8476884,\n 8478403,\n 8479353,\n 8479974,\n 8479991,\n 8480007,\n 8480259,\n 8481032,\n 8481167,\n 8481527,\n 8481604,\n 8481849,\n 8482624,\n 8473548,\n 8475278,\n 8477964,\n 8480776,\n 8476881,\n 8477511,\n 8478396,\n 8480844,\n 8481462,\n 8481600,\n 8482141,\n 8482153,\n 8471735,\n 8471887,\n 8475246,\n 8475462,\n 8476456,\n 8477038,\n 8477346,\n 8477407,\n 8477409,\n 8477493,\n 8477505,\n 8477932,\n 8477935,\n 8477986,\n 8477996,\n 8478055,\n 8478366,\n 8478454,\n 8478906,\n 8478975,\n 8479066,\n 8480015,\n 8480037,\n 8480185,\n 8481442,\n 8482641,\n 8473512,\n 8474610,\n 8475279,\n 8476989,\n 8477462,\n 8477933,\n 8479355,\n 8479553,\n 8479597,\n 8481655,\n 8482113,\n 8470595,\n 8471686,\n 8476393,\n 8476919,\n 8478870,\n 8479314,\n 8479372,\n 8479379,\n 8479578,\n 8483641,\n 8473449,\n 8475171,\n 8475765,\n 8478859,\n 8478904,\n 8479367,\n 8479981,\n 8482088,\n 8482713,\n 8484304,\n 8474102,\n 8474125,\n 8474145,\n 8474618,\n 8474884,\n 8475098,\n 8475170,\n 8475753,\n 8475768,\n 8476792,\n 8476892,\n 8476897,\n 8476907,\n 8477455,\n 8477463,\n 8477573,\n 8478013,\n 8478057,\n 8478104,\n 8478407,\n 8479385,\n 8480023,\n 8475181,\n 8476285,\n 8477402,\n 8479366,\n 8480157,\n 8480281,\n 8481059,\n 8482089,\n 8475752,\n 8476410,\n 8477944,\n 8479375,\n 8481006,\n 8481070,\n 8481543,\n 8482516,\n 8475763,\n 8482737,\n 8482784,\n 8474090,\n 8475184,\n 8475868,\n 8476458,\n 8476459,\n 8476858,\n 8476885,\n 8477380,\n 8477950,\n 8477962,\n 8478550,\n 8479291,\n 8479323,\n 8479324,\n 8479328,\n 8479333,\n 8479364,\n 8479462,\n 8480078,\n 8480817,\n 8480833,\n 8481554,\n 8481708,\n 8482109,\n 8482179,\n 8474027,\n 8476624,\n 8477353,\n 8479447,\n 8480878,\n 8482073,\n 8476389,\n 8477433,\n 8482157,\n 8478458,\n 8481726,\n 8482067,\n 8482460,\n 8482747,\n 8483407,\n 8473533,\n 8474581,\n 8475213,\n 8475825,\n 8475855,\n 8476288,\n 8476323,\n 8476462,\n 8476869,\n 8476882,\n 8476921,\n 8476958,\n 8476975,\n 8477046,\n 8477488,\n 8477938,\n 8478427,\n 8479402,\n 8480039,\n 8480466,\n 8480830,\n 8474613,\n 8478970,\n 8479249,\n 8480083,\n 8480829,\n 8480835,\n 8482093,\n 8470613,\n 8476906,\n 8475744,\n 8480031,\n 8482102,\n 8482666,\n 8482809,\n 8484203,\n 8465009,\n 8471214,\n 8471698,\n 8473563,\n 8474176,\n 8474590,\n 8474602,\n 8475209,\n 8475324,\n 8475343,\n 8475958,\n 8476880,\n 8477290,\n 8477314,\n 8477544,\n 8477839,\n 8477845,\n 8477901,\n 8478399,\n 8478466,\n 8479516,\n 8481580,\n 8475149,\n 8475625,\n 8475728,\n 8479321,\n 8479359,\n 8479395,\n 8479482,\n 8480087,\n 8480796,\n 8480823,\n 8481441,\n 8481517,\n 8481656,\n 8482148,\n 8475795,\n 8477947,\n 8478506,\n 8482861,\n 8479522,\n 8483491,\n 8483920,\n 8470600,\n 8474716,\n 8474749,\n 8475220,\n 8475692,\n 8476390,\n 8476415,\n 8476437,\n 8476463,\n 8476856,\n 8477366,\n 8477369,\n 8477451,\n 8477541,\n 8477942,\n 8478011,\n 8478413,\n 8478493,\n 8478864,\n 8479933,\n 8480884,\n 8471274,\n 8475235,\n 8475750,\n 8478136,\n 8479972,\n 8481489,\n 8481550,\n 8481557,\n 8482070,\n 8482079,\n 8474679,\n 8479351,\n 8480267,\n 8480275,\n 8480994,\n 8482122,\n 8481422,\n 8482094,\n 8482177,\n 8482197,\n 8483499,\n 8470794,\n 8471228,\n 8471260,\n 8471284,\n 8473994,\n 8475222,\n 8475413,\n 8475794,\n 8475796,\n 8476467,\n 8476889,\n 8476902,\n 8477810,\n 8478449,\n 8478495,\n 8478528,\n 8479381,\n 8479587,\n 8480027,\n 8480036,\n 8480769,\n 8480848,\n 8476822,\n 8479518,\n 8480216,\n 8480226,\n 8480988,\n 8481581,\n 8481712,\n 8482740,\n 8475168,\n 8475690,\n 8475755,\n 8482145,\n 8482702,\n 8470606,\n 8471685,\n 8474563,\n 8475729,\n 8476874,\n 8476924,\n 8477960,\n 8478846,\n 8478911,\n 8479336,\n 8479348,\n 8479644,\n 8479675,\n 8479994,\n 8479998,\n 8480072,\n 8480221,\n 8480467,\n 8481481,\n 8481560,\n 8482124,\n 8471303,\n 8476391,\n 8476479,\n 8478042,\n 8478250,\n 8479421,\n 8480434,\n 8481239,\n 8481532,\n 8481606,\n 8478882,\n 8479772,\n 8482730,\n 8480851,\n 8482155,\n 8470626,\n 8474091,\n 8474291,\n 8474574,\n 8474612,\n 8474849,\n 8476344,\n 8476468,\n 8476871,\n 8477473,\n 8477500,\n 8477937,\n 8477963,\n 8478444,\n 8478465,\n 8479986,\n 8480012,\n 8480056,\n 8480800,\n 8481479,\n 8481535,\n 8482063,\n 8470755,\n 8478856,\n 8481617,\n 8478967,\n 8479425,\n 8481683,\n 8482496,\n 8482691,\n 8483808,\n 8484254,\n 8484287,\n 8477496,\n 8481024,\n 8483395,\n 8466139,\n 8471709,\n 8474053,\n 8475834,\n 8476368,\n 8478099,\n 8478414,\n 8478467,\n 8478868,\n 8479571,\n 8479580,\n 8479705,\n 8479983,\n 8480053,\n 8480160,\n 8480276,\n 8480384,\n 8480965,\n 8481077,\n 8481516,\n 8481640,\n 8481812,\n 8482248,\n 8482369,\n 8478447,\n 8479373,\n 8480060,\n 8480304,\n 8480847,\n 8481061,\n 8481552,\n 8481701,\n 8482133,\n 8482667,\n 8475461,\n 8476449,\n 8476988,\n 8477341,\n 8478067,\n 8479304,\n 8479316,\n 8480188,\n 8481567,\n 8482101,\n 8482181,\n 8482824,\n 8480821,\n 8480834,\n 8481537,\n 8482144,\n 8482166,\n 8484911,\n 8474150,\n 8474628,\n 8474736,\n 8475807,\n 8476300,\n 8476346,\n 8476439,\n 8478233,\n 8478397,\n 8478430,\n 8478446,\n 8479346,\n 8479976,\n 8480008,\n 8475790,\n 8476399,\n 8482652,\n 8480084,\n 8481592,\n 8482679,\n 8477851,\n 8481028,\n 8481068,\n 8482074,\n 8482165,\n 8482470,\n 8483609,\n 8473986,\n 8474151,\n 8474564,\n 8475167,\n 8475233,\n 8476292,\n 8476826,\n 8476966,\n 8478010,\n 8478049,\n 8478069,\n 8478416,\n 8478472,\n 8478477,\n 8478519,\n 8479410,\n 8479718,\n 8479984,\n 8480158,\n 8480186,\n 8476453,\n 8477205,\n 8477426,\n 8477461,\n 8478178,\n 8479413,\n 8480863,\n 8479026,\n 8479661,\n 8480246,\n 8481043,\n 8475766,\n 8481719,\n 8482201,\n 8482929,\n 8483398,\n 8484325,\n 8470601,\n 8471233,\n 8472382,\n 8473463,\n 8473504,\n 8474066,\n 8474573,\n 8474586,\n 8474709,\n 8475151,\n 8475231,\n 8475314,\n 8475754,\n 8476419,\n 8476429,\n 8476917,\n ...]"
     },
     "execution_count": 5,
     "metadata": {},
     "output_type": "execute_result"
    }
   ],
   "source": [
    "# find list of player ids for players who played a game between 2010 and 2020\n",
    "player_id_list = []\n",
    "for team in team_id_list:\n",
    "    for season in year_list:\n",
    "        for id in process_data.get_all_player_ids(season, team):\n",
    "            if id not in player_id_list:\n",
    "                player_id_list.append(id)\n",
    "player_id_list"
   ]
  },
  {
   "cell_type": "code",
   "execution_count": 6,
   "id": "1b1cc6b9",
   "metadata": {
    "ExecuteTime": {
     "end_time": "2024-12-03T21:44:18.275386400Z",
     "start_time": "2024-12-03T21:44:18.187390Z"
    }
   },
   "outputs": [
    {
     "data": {
      "text/plain": "1351"
     },
     "execution_count": 6,
     "metadata": {},
     "output_type": "execute_result"
    }
   ],
   "source": [
    "len(player_id_list)"
   ]
  },
  {
   "cell_type": "code",
   "execution_count": 7,
   "id": "2cd1cac377379ba7",
   "metadata": {
    "ExecuteTime": {
     "end_time": "2024-12-03T21:44:24.543397300Z",
     "start_time": "2024-12-03T21:44:18.204389300Z"
    }
   },
   "outputs": [],
   "source": [
    "# extract data about all players who played between 2010 and 2020, including personal data and stats from every season in the NHL during that period\n",
    "player_stats = []\n",
    "for player_id in player_id_list:\n",
    "    try:\n",
    "        pl_class = process_data.load_player(player_id, year_list)\n",
    "        player_stats.append(pl_class)\n",
    "    except Exception as e:\n",
    "        print(e)\n",
    "        continue"
   ]
  },
  {
   "cell_type": "code",
   "execution_count": 8,
   "id": "8c5cd41438c39570",
   "metadata": {
    "ExecuteTime": {
     "end_time": "2024-12-03T21:44:24.563391200Z",
     "start_time": "2024-12-03T21:44:24.545387900Z"
    }
   },
   "outputs": [
    {
     "data": {
      "text/plain": "1351"
     },
     "execution_count": 8,
     "metadata": {},
     "output_type": "execute_result"
    }
   ],
   "source": [
    "# total number of players extracted\n",
    "len(player_stats)"
   ]
  },
  {
   "cell_type": "markdown",
   "source": [
    "# Clean data"
   ],
   "metadata": {
    "collapsed": false
   },
   "id": "84a64994531a1464"
  },
  {
   "cell_type": "code",
   "execution_count": 9,
   "id": "fa64daed026a2900",
   "metadata": {
    "ExecuteTime": {
     "end_time": "2024-12-03T21:44:24.634385100Z",
     "start_time": "2024-12-03T21:44:24.563391200Z"
    }
   },
   "outputs": [],
   "source": [
    "# restrict to players who played at least 3 seasons and 100 total games\n",
    "reduced_player_stats = []\n",
    "for temp in player_stats:\n",
    "    games = 0\n",
    "    years = 0\n",
    "    for year in year_list:\n",
    "        if year in temp.seasons.keys():\n",
    "            games += temp.seasons[year].n_games_played\n",
    "            years += 1\n",
    "    if years >= 3 and games > 100:\n",
    "        reduced_player_stats.append(temp)"
   ]
  },
  {
   "cell_type": "code",
   "execution_count": 10,
   "id": "583ad0adc747c096",
   "metadata": {
    "ExecuteTime": {
     "end_time": "2024-12-03T21:44:24.637390Z",
     "start_time": "2024-12-03T21:44:24.577393400Z"
    }
   },
   "outputs": [
    {
     "data": {
      "text/plain": "649"
     },
     "execution_count": 10,
     "metadata": {},
     "output_type": "execute_result"
    }
   ],
   "source": [
    "# number of players with at least 3 seasons and 100 games\n",
    "len(reduced_player_stats)"
   ]
  },
  {
   "cell_type": "code",
   "execution_count": 11,
   "id": "d3a391e7013d581",
   "metadata": {
    "ExecuteTime": {
     "end_time": "2024-12-03T21:44:24.655388100Z",
     "start_time": "2024-12-03T21:44:24.608385600Z"
    }
   },
   "outputs": [],
   "source": [
    "# create data for prediction, with every possible set of 2 consecutive seasons to predict the 3rd one\n",
    "split_data = []\n",
    "for player in reduced_player_stats:\n",
    "    for i in range(len(year_list) - 2):\n",
    "        years = year_list[i:i+3]\n",
    "        if years[2] in player.seasons.keys():\n",
    "            data = {'name': player.name,\n",
    "                    'role': player.role,\n",
    "                    'country': player.country,\n",
    "                    'age': player.age,\n",
    "                    'id': player.id,\n",
    "                    'height': player.height,\n",
    "                    'weight': player.weight\n",
    "                    }\n",
    "            data = {**data, **process_data.get_year_data_skaters(player, years[0], '1'), **process_data.get_year_data_skaters(player, years[1], '2')}\n",
    "            data['season_1'] = years[0]\n",
    "            data['season_2'] = years[1]\n",
    "            data['season_3'] = years[2]\n",
    "            data['ppg_3'] = player.get_ratio_season_points(years[2])\n",
    "            split_data.append(data)"
   ]
  },
  {
   "cell_type": "code",
   "execution_count": 12,
   "id": "f8f5d13367c2fb65",
   "metadata": {
    "ExecuteTime": {
     "end_time": "2024-12-03T21:44:24.765386500Z",
     "start_time": "2024-12-03T21:44:24.624392600Z"
    }
   },
   "outputs": [
    {
     "data": {
      "text/plain": "                 name role country  age       id  height  weight  goals_1  \\\n0       Alex Chiasson    A     CAN   34  8475163     193      94        9   \n1        Zack Kassian    A     CAN   33  8475178     191      96        2   \n2      Dmitry Kulikov    D     RUS   34  8475179     185      96        0   \n3      Dmitry Kulikov    D     RUS   34  8475179     185      96        7   \n4        Tyson Barrie    D     CAN   33  8475197     180      89        8   \n...               ...  ...     ...  ...      ...     ...     ...      ...   \n1255      Tommy Novak    A     USA   27  8478438     185      81        1   \n1256  Philip Tomasino    A     CAN   23  8481577     183      81        0   \n1257  Philip Tomasino    A     CAN   23  8481577     183      81       11   \n1258    Matty Beniers    A     USA   22  8482665     188      82        0   \n1259    Matty Beniers    A     USA   22  8482665     188      82        3   \n\n      assists_1  pim_1  ...  pim_2  games_2 shots_2  time_2 plus_minus_2  \\\n0             7     33  ...     24       67      98   11:37            4   \n1             3     15  ...     63       58      58   11:47            2   \n2             2     26  ...     39       80      74   18:12           23   \n3            17     39  ...     30       61      80   20:13          -11   \n4            40     10  ...     18       73     149   18:58            3   \n...         ...    ...  ...    ...      ...     ...     ...          ...   \n1255          6      2  ...      8       51      93   14:39            5   \n1256          0      0  ...     10       76     111   11:32            2   \n1257         21     10  ...      6       31      54   15:36            5   \n1258          0      0  ...      0       10      18   16:56           -1   \n1259          6      0  ...      2       80     148   17:06           14   \n\n         team_2  season_1  season_2  season_3     ppg_3  \n0       Canucks  20202021  20212022  20222023  0.750000  \n1        Oilers  20202021  20212022  20222023  0.078431  \n2          Wild  20202021  20212022  20222023  0.344262  \n3         Ducks  20212022  20222023  20232024  0.289474  \n4        Oilers  20202021  20212022  20222023  1.032787  \n...         ...       ...       ...       ...       ...  \n1255  Predators  20212022  20222023  20232024  0.887324  \n1256  Predators  20202021  20212022  20222023  0.741935  \n1257  Predators  20212022  20222023  20232024  0.658537  \n1258     Kraken  20202021  20212022  20222023  1.012500  \n1259     Kraken  20212022  20222023  20232024  0.675325  \n\n[1260 rows x 27 columns]",
      "text/html": "<div>\n<style scoped>\n    .dataframe tbody tr th:only-of-type {\n        vertical-align: middle;\n    }\n\n    .dataframe tbody tr th {\n        vertical-align: top;\n    }\n\n    .dataframe thead th {\n        text-align: right;\n    }\n</style>\n<table border=\"1\" class=\"dataframe\">\n  <thead>\n    <tr style=\"text-align: right;\">\n      <th></th>\n      <th>name</th>\n      <th>role</th>\n      <th>country</th>\n      <th>age</th>\n      <th>id</th>\n      <th>height</th>\n      <th>weight</th>\n      <th>goals_1</th>\n      <th>assists_1</th>\n      <th>pim_1</th>\n      <th>...</th>\n      <th>pim_2</th>\n      <th>games_2</th>\n      <th>shots_2</th>\n      <th>time_2</th>\n      <th>plus_minus_2</th>\n      <th>team_2</th>\n      <th>season_1</th>\n      <th>season_2</th>\n      <th>season_3</th>\n      <th>ppg_3</th>\n    </tr>\n  </thead>\n  <tbody>\n    <tr>\n      <th>0</th>\n      <td>Alex Chiasson</td>\n      <td>A</td>\n      <td>CAN</td>\n      <td>34</td>\n      <td>8475163</td>\n      <td>193</td>\n      <td>94</td>\n      <td>9</td>\n      <td>7</td>\n      <td>33</td>\n      <td>...</td>\n      <td>24</td>\n      <td>67</td>\n      <td>98</td>\n      <td>11:37</td>\n      <td>4</td>\n      <td>Canucks</td>\n      <td>20202021</td>\n      <td>20212022</td>\n      <td>20222023</td>\n      <td>0.750000</td>\n    </tr>\n    <tr>\n      <th>1</th>\n      <td>Zack Kassian</td>\n      <td>A</td>\n      <td>CAN</td>\n      <td>33</td>\n      <td>8475178</td>\n      <td>191</td>\n      <td>96</td>\n      <td>2</td>\n      <td>3</td>\n      <td>15</td>\n      <td>...</td>\n      <td>63</td>\n      <td>58</td>\n      <td>58</td>\n      <td>11:47</td>\n      <td>2</td>\n      <td>Oilers</td>\n      <td>20202021</td>\n      <td>20212022</td>\n      <td>20222023</td>\n      <td>0.078431</td>\n    </tr>\n    <tr>\n      <th>2</th>\n      <td>Dmitry Kulikov</td>\n      <td>D</td>\n      <td>RUS</td>\n      <td>34</td>\n      <td>8475179</td>\n      <td>185</td>\n      <td>96</td>\n      <td>0</td>\n      <td>2</td>\n      <td>26</td>\n      <td>...</td>\n      <td>39</td>\n      <td>80</td>\n      <td>74</td>\n      <td>18:12</td>\n      <td>23</td>\n      <td>Wild</td>\n      <td>20202021</td>\n      <td>20212022</td>\n      <td>20222023</td>\n      <td>0.344262</td>\n    </tr>\n    <tr>\n      <th>3</th>\n      <td>Dmitry Kulikov</td>\n      <td>D</td>\n      <td>RUS</td>\n      <td>34</td>\n      <td>8475179</td>\n      <td>185</td>\n      <td>96</td>\n      <td>7</td>\n      <td>17</td>\n      <td>39</td>\n      <td>...</td>\n      <td>30</td>\n      <td>61</td>\n      <td>80</td>\n      <td>20:13</td>\n      <td>-11</td>\n      <td>Ducks</td>\n      <td>20212022</td>\n      <td>20222023</td>\n      <td>20232024</td>\n      <td>0.289474</td>\n    </tr>\n    <tr>\n      <th>4</th>\n      <td>Tyson Barrie</td>\n      <td>D</td>\n      <td>CAN</td>\n      <td>33</td>\n      <td>8475197</td>\n      <td>180</td>\n      <td>89</td>\n      <td>8</td>\n      <td>40</td>\n      <td>10</td>\n      <td>...</td>\n      <td>18</td>\n      <td>73</td>\n      <td>149</td>\n      <td>18:58</td>\n      <td>3</td>\n      <td>Oilers</td>\n      <td>20202021</td>\n      <td>20212022</td>\n      <td>20222023</td>\n      <td>1.032787</td>\n    </tr>\n    <tr>\n      <th>...</th>\n      <td>...</td>\n      <td>...</td>\n      <td>...</td>\n      <td>...</td>\n      <td>...</td>\n      <td>...</td>\n      <td>...</td>\n      <td>...</td>\n      <td>...</td>\n      <td>...</td>\n      <td>...</td>\n      <td>...</td>\n      <td>...</td>\n      <td>...</td>\n      <td>...</td>\n      <td>...</td>\n      <td>...</td>\n      <td>...</td>\n      <td>...</td>\n      <td>...</td>\n      <td>...</td>\n    </tr>\n    <tr>\n      <th>1255</th>\n      <td>Tommy Novak</td>\n      <td>A</td>\n      <td>USA</td>\n      <td>27</td>\n      <td>8478438</td>\n      <td>185</td>\n      <td>81</td>\n      <td>1</td>\n      <td>6</td>\n      <td>2</td>\n      <td>...</td>\n      <td>8</td>\n      <td>51</td>\n      <td>93</td>\n      <td>14:39</td>\n      <td>5</td>\n      <td>Predators</td>\n      <td>20212022</td>\n      <td>20222023</td>\n      <td>20232024</td>\n      <td>0.887324</td>\n    </tr>\n    <tr>\n      <th>1256</th>\n      <td>Philip Tomasino</td>\n      <td>A</td>\n      <td>CAN</td>\n      <td>23</td>\n      <td>8481577</td>\n      <td>183</td>\n      <td>81</td>\n      <td>0</td>\n      <td>0</td>\n      <td>0</td>\n      <td>...</td>\n      <td>10</td>\n      <td>76</td>\n      <td>111</td>\n      <td>11:32</td>\n      <td>2</td>\n      <td>Predators</td>\n      <td>20202021</td>\n      <td>20212022</td>\n      <td>20222023</td>\n      <td>0.741935</td>\n    </tr>\n    <tr>\n      <th>1257</th>\n      <td>Philip Tomasino</td>\n      <td>A</td>\n      <td>CAN</td>\n      <td>23</td>\n      <td>8481577</td>\n      <td>183</td>\n      <td>81</td>\n      <td>11</td>\n      <td>21</td>\n      <td>10</td>\n      <td>...</td>\n      <td>6</td>\n      <td>31</td>\n      <td>54</td>\n      <td>15:36</td>\n      <td>5</td>\n      <td>Predators</td>\n      <td>20212022</td>\n      <td>20222023</td>\n      <td>20232024</td>\n      <td>0.658537</td>\n    </tr>\n    <tr>\n      <th>1258</th>\n      <td>Matty Beniers</td>\n      <td>A</td>\n      <td>USA</td>\n      <td>22</td>\n      <td>8482665</td>\n      <td>188</td>\n      <td>82</td>\n      <td>0</td>\n      <td>0</td>\n      <td>0</td>\n      <td>...</td>\n      <td>0</td>\n      <td>10</td>\n      <td>18</td>\n      <td>16:56</td>\n      <td>-1</td>\n      <td>Kraken</td>\n      <td>20202021</td>\n      <td>20212022</td>\n      <td>20222023</td>\n      <td>1.012500</td>\n    </tr>\n    <tr>\n      <th>1259</th>\n      <td>Matty Beniers</td>\n      <td>A</td>\n      <td>USA</td>\n      <td>22</td>\n      <td>8482665</td>\n      <td>188</td>\n      <td>82</td>\n      <td>3</td>\n      <td>6</td>\n      <td>0</td>\n      <td>...</td>\n      <td>2</td>\n      <td>80</td>\n      <td>148</td>\n      <td>17:06</td>\n      <td>14</td>\n      <td>Kraken</td>\n      <td>20212022</td>\n      <td>20222023</td>\n      <td>20232024</td>\n      <td>0.675325</td>\n    </tr>\n  </tbody>\n</table>\n<p>1260 rows × 27 columns</p>\n</div>"
     },
     "execution_count": 12,
     "metadata": {},
     "output_type": "execute_result"
    }
   ],
   "source": [
    "# transform the data into a pandas dtaframe for processing\n",
    "df = pd.DataFrame(split_data)\n",
    "df"
   ]
  },
  {
   "cell_type": "code",
   "execution_count": 13,
   "id": "0763b2e5",
   "metadata": {
    "ExecuteTime": {
     "end_time": "2024-12-03T21:44:24.767391800Z",
     "start_time": "2024-12-03T21:44:24.686389900Z"
    }
   },
   "outputs": [],
   "source": [
    "df = process_data.process_data_skaters(df)"
   ]
  },
  {
   "cell_type": "code",
   "execution_count": 14,
   "id": "619b8054",
   "metadata": {
    "ExecuteTime": {
     "end_time": "2024-12-03T21:44:24.793389600Z",
     "start_time": "2024-12-03T21:44:24.723390200Z"
    }
   },
   "outputs": [],
   "source": [
    "# select only relevant columns\n",
    "df_final = df[['games_1', 'games_2', 'goals_1', 'goals_2',\n",
    "               'height', 'pim_1',\n",
    "               'pim_2', 'plus_minus_1', 'plus_minus_2', 'role',\n",
    "               'ppg_3', 'shots_1', 'shots_2', 'time_1',\n",
    "               'time_2', 'weight', 'points_1', 'points_2', 'age']]"
   ]
  },
  {
   "cell_type": "code",
   "execution_count": 15,
   "id": "56fec6da",
   "metadata": {
    "ExecuteTime": {
     "end_time": "2024-12-03T21:44:24.873388100Z",
     "start_time": "2024-12-03T21:44:24.753389500Z"
    }
   },
   "outputs": [],
   "source": [
    "# transform position columns into one-hot encoded features\n",
    "df_final = pd.get_dummies(df_final, columns=['role'])"
   ]
  },
  {
   "cell_type": "code",
   "execution_count": 16,
   "id": "1c7e156d",
   "metadata": {
    "ExecuteTime": {
     "end_time": "2024-12-03T21:44:24.874388300Z",
     "start_time": "2024-12-03T21:44:24.782389500Z"
    }
   },
   "outputs": [],
   "source": [
    "# restrict to lines with some games played in one of the two seasons at least\n",
    "df_final = df_final[(df_final['games_1']!=0)|(df_final['games_2']!=0)]"
   ]
  },
  {
   "cell_type": "code",
   "execution_count": 17,
   "id": "7f61d869",
   "metadata": {
    "ExecuteTime": {
     "end_time": "2024-12-03T21:44:24.877388Z",
     "start_time": "2024-12-03T21:44:24.797392800Z"
    }
   },
   "outputs": [],
   "source": [
    "# replace NaN by zero because they come from seasons where the player did not play\n",
    "df_final = df_final.fillna(0)"
   ]
  },
  {
   "cell_type": "code",
   "execution_count": 18,
   "id": "947f1f6c",
   "metadata": {
    "ExecuteTime": {
     "end_time": "2024-12-03T21:44:24.974386Z",
     "start_time": "2024-12-03T21:44:24.814393500Z"
    }
   },
   "outputs": [
    {
     "data": {
      "text/plain": "       games_1   games_2   goals_1   goals_2  height     pim_1     pim_2  \\\n0     0.548780  0.817073  0.200000  0.194030     193  0.733333  0.358209   \n1     0.329268  0.707317  0.074074  0.103448     191  0.555556  1.086207   \n2     0.463415  0.975610  0.000000  0.087500     185  0.684211  0.487500   \n3     0.975610  0.743902  0.087500  0.049180     185  0.487500  0.491803   \n4     0.682927  0.890244  0.142857  0.095890     180  0.178571  0.246575   \n...        ...       ...       ...       ...     ...       ...       ...   \n1255  0.329268  0.621951  0.037037  0.333333     185  0.074074  0.156863   \n1256  0.000000  0.926829  0.000000  0.144737     183  0.000000  0.131579   \n1257  0.926829  0.378049  0.144737  0.161290     183  0.131579  0.193548   \n1258  0.000000  0.121951  0.000000  0.300000     188  0.000000  0.000000   \n1259  0.121951  0.975610  0.300000  0.300000     188  0.000000  0.025000   \n\n      plus_minus_1  plus_minus_2     ppg_3   shots_1   shots_2    time_1  \\\n0              -10             4  0.750000  1.444444  1.462687  0.266667   \n1               -4             2  0.078431  0.666667  1.000000  0.407407   \n2               -4            23  0.344262  1.131579  0.925000  0.500000   \n3               23           -11  0.289474  0.925000  1.311475  0.225000   \n4                4             3  1.032787  2.607143  2.041096  0.375000   \n...            ...           ...       ...       ...       ...       ...   \n1255            -4             5  0.887324  0.925926  1.823529  0.407407   \n1256             0             2  0.741935  0.000000  1.460526  0.000000   \n1257             2             5  0.658537  1.460526  1.741935  0.144737   \n1258             0            -1  1.012500  0.000000  1.800000  0.000000   \n1259            -1            14  0.675325  1.800000  1.850000  1.600000   \n\n        time_2  weight  points_1  points_2  age  role_A  role_D  \n0     0.164179      94  0.355556  0.328358   34    True   False  \n1     0.189655      96  0.185185  0.327586   33    True   False  \n2     0.225000      96  0.052632  0.300000   34   False    True  \n3     0.327869      96  0.300000  0.245902   34   False    True  \n4     0.246575      89  0.857143  0.561644   33   False    True  \n...        ...     ...       ...       ...  ...     ...     ...  \n1255  0.274510      81  0.259259  0.843137   27    True   False  \n1256  0.144737      81  0.000000  0.421053   23    True   False  \n1257  0.483871      81  0.421053  0.580645   23    True   False  \n1258  1.600000      82  0.000000  0.900000   22    True   False  \n1259  0.212500      82  0.900000  0.712500   22    True   False  \n\n[1260 rows x 20 columns]",
      "text/html": "<div>\n<style scoped>\n    .dataframe tbody tr th:only-of-type {\n        vertical-align: middle;\n    }\n\n    .dataframe tbody tr th {\n        vertical-align: top;\n    }\n\n    .dataframe thead th {\n        text-align: right;\n    }\n</style>\n<table border=\"1\" class=\"dataframe\">\n  <thead>\n    <tr style=\"text-align: right;\">\n      <th></th>\n      <th>games_1</th>\n      <th>games_2</th>\n      <th>goals_1</th>\n      <th>goals_2</th>\n      <th>height</th>\n      <th>pim_1</th>\n      <th>pim_2</th>\n      <th>plus_minus_1</th>\n      <th>plus_minus_2</th>\n      <th>ppg_3</th>\n      <th>shots_1</th>\n      <th>shots_2</th>\n      <th>time_1</th>\n      <th>time_2</th>\n      <th>weight</th>\n      <th>points_1</th>\n      <th>points_2</th>\n      <th>age</th>\n      <th>role_A</th>\n      <th>role_D</th>\n    </tr>\n  </thead>\n  <tbody>\n    <tr>\n      <th>0</th>\n      <td>0.548780</td>\n      <td>0.817073</td>\n      <td>0.200000</td>\n      <td>0.194030</td>\n      <td>193</td>\n      <td>0.733333</td>\n      <td>0.358209</td>\n      <td>-10</td>\n      <td>4</td>\n      <td>0.750000</td>\n      <td>1.444444</td>\n      <td>1.462687</td>\n      <td>0.266667</td>\n      <td>0.164179</td>\n      <td>94</td>\n      <td>0.355556</td>\n      <td>0.328358</td>\n      <td>34</td>\n      <td>True</td>\n      <td>False</td>\n    </tr>\n    <tr>\n      <th>1</th>\n      <td>0.329268</td>\n      <td>0.707317</td>\n      <td>0.074074</td>\n      <td>0.103448</td>\n      <td>191</td>\n      <td>0.555556</td>\n      <td>1.086207</td>\n      <td>-4</td>\n      <td>2</td>\n      <td>0.078431</td>\n      <td>0.666667</td>\n      <td>1.000000</td>\n      <td>0.407407</td>\n      <td>0.189655</td>\n      <td>96</td>\n      <td>0.185185</td>\n      <td>0.327586</td>\n      <td>33</td>\n      <td>True</td>\n      <td>False</td>\n    </tr>\n    <tr>\n      <th>2</th>\n      <td>0.463415</td>\n      <td>0.975610</td>\n      <td>0.000000</td>\n      <td>0.087500</td>\n      <td>185</td>\n      <td>0.684211</td>\n      <td>0.487500</td>\n      <td>-4</td>\n      <td>23</td>\n      <td>0.344262</td>\n      <td>1.131579</td>\n      <td>0.925000</td>\n      <td>0.500000</td>\n      <td>0.225000</td>\n      <td>96</td>\n      <td>0.052632</td>\n      <td>0.300000</td>\n      <td>34</td>\n      <td>False</td>\n      <td>True</td>\n    </tr>\n    <tr>\n      <th>3</th>\n      <td>0.975610</td>\n      <td>0.743902</td>\n      <td>0.087500</td>\n      <td>0.049180</td>\n      <td>185</td>\n      <td>0.487500</td>\n      <td>0.491803</td>\n      <td>23</td>\n      <td>-11</td>\n      <td>0.289474</td>\n      <td>0.925000</td>\n      <td>1.311475</td>\n      <td>0.225000</td>\n      <td>0.327869</td>\n      <td>96</td>\n      <td>0.300000</td>\n      <td>0.245902</td>\n      <td>34</td>\n      <td>False</td>\n      <td>True</td>\n    </tr>\n    <tr>\n      <th>4</th>\n      <td>0.682927</td>\n      <td>0.890244</td>\n      <td>0.142857</td>\n      <td>0.095890</td>\n      <td>180</td>\n      <td>0.178571</td>\n      <td>0.246575</td>\n      <td>4</td>\n      <td>3</td>\n      <td>1.032787</td>\n      <td>2.607143</td>\n      <td>2.041096</td>\n      <td>0.375000</td>\n      <td>0.246575</td>\n      <td>89</td>\n      <td>0.857143</td>\n      <td>0.561644</td>\n      <td>33</td>\n      <td>False</td>\n      <td>True</td>\n    </tr>\n    <tr>\n      <th>...</th>\n      <td>...</td>\n      <td>...</td>\n      <td>...</td>\n      <td>...</td>\n      <td>...</td>\n      <td>...</td>\n      <td>...</td>\n      <td>...</td>\n      <td>...</td>\n      <td>...</td>\n      <td>...</td>\n      <td>...</td>\n      <td>...</td>\n      <td>...</td>\n      <td>...</td>\n      <td>...</td>\n      <td>...</td>\n      <td>...</td>\n      <td>...</td>\n      <td>...</td>\n    </tr>\n    <tr>\n      <th>1255</th>\n      <td>0.329268</td>\n      <td>0.621951</td>\n      <td>0.037037</td>\n      <td>0.333333</td>\n      <td>185</td>\n      <td>0.074074</td>\n      <td>0.156863</td>\n      <td>-4</td>\n      <td>5</td>\n      <td>0.887324</td>\n      <td>0.925926</td>\n      <td>1.823529</td>\n      <td>0.407407</td>\n      <td>0.274510</td>\n      <td>81</td>\n      <td>0.259259</td>\n      <td>0.843137</td>\n      <td>27</td>\n      <td>True</td>\n      <td>False</td>\n    </tr>\n    <tr>\n      <th>1256</th>\n      <td>0.000000</td>\n      <td>0.926829</td>\n      <td>0.000000</td>\n      <td>0.144737</td>\n      <td>183</td>\n      <td>0.000000</td>\n      <td>0.131579</td>\n      <td>0</td>\n      <td>2</td>\n      <td>0.741935</td>\n      <td>0.000000</td>\n      <td>1.460526</td>\n      <td>0.000000</td>\n      <td>0.144737</td>\n      <td>81</td>\n      <td>0.000000</td>\n      <td>0.421053</td>\n      <td>23</td>\n      <td>True</td>\n      <td>False</td>\n    </tr>\n    <tr>\n      <th>1257</th>\n      <td>0.926829</td>\n      <td>0.378049</td>\n      <td>0.144737</td>\n      <td>0.161290</td>\n      <td>183</td>\n      <td>0.131579</td>\n      <td>0.193548</td>\n      <td>2</td>\n      <td>5</td>\n      <td>0.658537</td>\n      <td>1.460526</td>\n      <td>1.741935</td>\n      <td>0.144737</td>\n      <td>0.483871</td>\n      <td>81</td>\n      <td>0.421053</td>\n      <td>0.580645</td>\n      <td>23</td>\n      <td>True</td>\n      <td>False</td>\n    </tr>\n    <tr>\n      <th>1258</th>\n      <td>0.000000</td>\n      <td>0.121951</td>\n      <td>0.000000</td>\n      <td>0.300000</td>\n      <td>188</td>\n      <td>0.000000</td>\n      <td>0.000000</td>\n      <td>0</td>\n      <td>-1</td>\n      <td>1.012500</td>\n      <td>0.000000</td>\n      <td>1.800000</td>\n      <td>0.000000</td>\n      <td>1.600000</td>\n      <td>82</td>\n      <td>0.000000</td>\n      <td>0.900000</td>\n      <td>22</td>\n      <td>True</td>\n      <td>False</td>\n    </tr>\n    <tr>\n      <th>1259</th>\n      <td>0.121951</td>\n      <td>0.975610</td>\n      <td>0.300000</td>\n      <td>0.300000</td>\n      <td>188</td>\n      <td>0.000000</td>\n      <td>0.025000</td>\n      <td>-1</td>\n      <td>14</td>\n      <td>0.675325</td>\n      <td>1.800000</td>\n      <td>1.850000</td>\n      <td>1.600000</td>\n      <td>0.212500</td>\n      <td>82</td>\n      <td>0.900000</td>\n      <td>0.712500</td>\n      <td>22</td>\n      <td>True</td>\n      <td>False</td>\n    </tr>\n  </tbody>\n</table>\n<p>1260 rows × 20 columns</p>\n</div>"
     },
     "execution_count": 18,
     "metadata": {},
     "output_type": "execute_result"
    }
   ],
   "source": [
    "df_final"
   ]
  },
  {
   "cell_type": "markdown",
   "source": [
    "# Predict points per game"
   ],
   "metadata": {
    "collapsed": false
   },
   "id": "19997c23dbe23768"
  },
  {
   "cell_type": "code",
   "execution_count": 19,
   "id": "6d4f06ef",
   "metadata": {
    "ExecuteTime": {
     "end_time": "2024-12-03T21:44:27.178416800Z",
     "start_time": "2024-12-03T21:44:24.861391300Z"
    }
   },
   "outputs": [],
   "source": [
    "from sklearn.linear_model import LinearRegression\n",
    "from sklearn.model_selection import train_test_split\n",
    "from sklearn.metrics import root_mean_squared_error"
   ]
  },
  {
   "cell_type": "code",
   "execution_count": 20,
   "id": "723fce8a",
   "metadata": {
    "ExecuteTime": {
     "end_time": "2024-12-03T21:44:27.182409900Z",
     "start_time": "2024-12-03T21:44:27.167409900Z"
    }
   },
   "outputs": [],
   "source": [
    "# split label column from the features\n",
    "X = df_final.drop(['ppg_3'], axis=1)\n",
    "y = df_final['ppg_3']\n",
    "\n",
    "# split data into train and test\n",
    "X_train, X_test, y_train, y_test = train_test_split(X, y, test_size=0.15)"
   ]
  },
  {
   "cell_type": "code",
   "execution_count": 21,
   "id": "3516a477",
   "metadata": {
    "ExecuteTime": {
     "end_time": "2024-12-03T21:44:27.183409700Z",
     "start_time": "2024-12-03T21:44:27.168414700Z"
    }
   },
   "outputs": [
    {
     "name": "stdout",
     "output_type": "stream",
     "text": [
      "Number of training data: 1071\n",
      "Number of testing data: 189\n"
     ]
    }
   ],
   "source": [
    "print('Number of training data:', len(X_train))\n",
    "print('Number of testing data:', len(X_test))"
   ]
  },
  {
   "cell_type": "code",
   "execution_count": 22,
   "id": "f37b63f2",
   "metadata": {
    "ExecuteTime": {
     "end_time": "2024-12-03T21:44:27.326415200Z",
     "start_time": "2024-12-03T21:44:27.176413400Z"
    }
   },
   "outputs": [
    {
     "data": {
      "text/plain": "{'height': {'mu': 186.37908496732027, 'sig': 5.607412609330482},\n 'weight': {'mu': 91.53874883286647, 'sig': 6.765507760364162},\n 'age': {'mu': 29.329598506069093, 'sig': 3.9895484633546827},\n 'plus_minus_1': {'mu': 0.7282913165266106, 'sig': 12.454325254503429},\n 'plus_minus_2': {'mu': 0.4323062558356676, 'sig': 14.700207964818846},\n 'time_1': {'mu': 0.548633433204907, 'sig': 1.1583142981115973},\n 'time_2': {'mu': 0.39054024498980444, 'sig': 0.7073210671706833}}"
     },
     "execution_count": 22,
     "metadata": {},
     "output_type": "execute_result"
    }
   ],
   "source": [
    "# find mean and std of columns that were not normalized by the number of games\n",
    "standardization = {}\n",
    "for col in ['height', 'weight', 'age', 'plus_minus_1', 'plus_minus_2', 'time_1', 'time_2']:\n",
    "    mu = X_train[col].mean()\n",
    "    sig = X_train[col].std()\n",
    "    standardization[col] = {'mu': mu, 'sig': sig}\n",
    "\n",
    "standardization"
   ]
  },
  {
   "cell_type": "code",
   "execution_count": 23,
   "id": "7ccbf2fd",
   "metadata": {
    "ExecuteTime": {
     "end_time": "2024-12-03T21:44:27.592410600Z",
     "start_time": "2024-12-03T21:44:27.195410800Z"
    }
   },
   "outputs": [],
   "source": [
    "# function to normalize the data\n",
    "def normalize_data(data):\n",
    "    for col in ['height', 'weight', 'age', 'plus_minus_1', 'plus_minus_2', 'time_1', 'time_2']:\n",
    "        data[col] = (data[col] - standardization[col]['mu']) / standardization[col]['sig']\n",
    "    return data"
   ]
  },
  {
   "cell_type": "code",
   "execution_count": 24,
   "id": "eda64b62",
   "metadata": {
    "ExecuteTime": {
     "end_time": "2024-12-03T21:44:27.592410600Z",
     "start_time": "2024-12-03T21:44:27.208421600Z"
    }
   },
   "outputs": [],
   "source": [
    "# normalize the data \n",
    "X_train = normalize_data(X_train)\n",
    "X_test = normalize_data(X_test)"
   ]
  },
  {
   "cell_type": "code",
   "execution_count": 25,
   "id": "1bd0341d",
   "metadata": {
    "ExecuteTime": {
     "end_time": "2024-12-03T21:44:27.593415500Z",
     "start_time": "2024-12-03T21:44:27.228415500Z"
    }
   },
   "outputs": [
    {
     "name": "stdout",
     "output_type": "stream",
     "text": [
      "RMSE: 0.26662959904714295\n"
     ]
    }
   ],
   "source": [
    "# use last season's points as benchmark prediction\n",
    "print('RMSE:', root_mean_squared_error(X_test['points_2'], y_test))"
   ]
  },
  {
   "cell_type": "code",
   "execution_count": 26,
   "id": "1beb06d4",
   "metadata": {
    "ExecuteTime": {
     "end_time": "2024-12-03T21:44:27.654410500Z",
     "start_time": "2024-12-03T21:44:27.241415Z"
    }
   },
   "outputs": [
    {
     "name": "stdout",
     "output_type": "stream",
     "text": [
      "RMSE: 0.2099738807352568\n"
     ]
    }
   ],
   "source": [
    "# train a linear regression model and evaluate on test data\n",
    "model = LinearRegression().fit(X_train, y_train)\n",
    "\n",
    "print('RMSE:', root_mean_squared_error(model.predict(X_test), y_test))"
   ]
  },
  {
   "cell_type": "code",
   "execution_count": 27,
   "id": "88b3a4ef",
   "metadata": {
    "ExecuteTime": {
     "end_time": "2024-12-03T21:44:28.724237300Z",
     "start_time": "2024-12-03T21:44:27.285414300Z"
    }
   },
   "outputs": [
    {
     "data": {
      "text/plain": "<Figure size 640x480 with 1 Axes>",
      "image/png": "[encoded data removed]"
     },
     "metadata": {},
     "output_type": "display_data"
    }
   ],
   "source": [
    "import matplotlib.pyplot as plt\n",
    "\n",
    "fig, ax = plt.subplots()\n",
    "ax.scatter(y_test, model.predict(X_test), edgecolors=(0, 0, 0))\n",
    "ax.plot([y_test.min(), y_test.max()], [y_test.min(), y_test.max()], 'k-', lw=2)\n",
    "ax.set_xlabel('Target Pts/gm', size='x-large')\n",
    "ax.set_ylabel('Predicted Pts/gm', size='x-large')\n",
    "plt.savefig('plot.png')"
   ]
  },
  {
   "cell_type": "code",
   "execution_count": 28,
   "id": "3f774bf3",
   "metadata": {
    "ExecuteTime": {
     "end_time": "2024-12-03T21:44:28.747245600Z",
     "start_time": "2024-12-03T21:44:28.720243500Z"
    }
   },
   "outputs": [],
   "source": [
    "# extract data for the last two seasons to predict the new one\n",
    "pred_data = []\n",
    "for player in player_stats:\n",
    "        years = ['20222023', '20232024', '20242025']\n",
    "        data = {'name': player.name,\n",
    "                'role': player.role,\n",
    "                'country': player.country,\n",
    "                'age': player.age,\n",
    "                'id': player.id,\n",
    "                'height': player.height,\n",
    "                'weight': player.weight\n",
    "                }\n",
    "        data = {**data, **process_data.get_year_data_skaters(player, years[0], '1'), **process_data.get_year_data_skaters(player, years[1], '2')}\n",
    "        data['season_1'] = years[0]\n",
    "        data['season_2'] = years[1]\n",
    "        data['season_3'] = years[2]\n",
    "        pred_data.append(data)"
   ]
  },
  {
   "cell_type": "code",
   "execution_count": 29,
   "id": "d5bbfb10",
   "metadata": {
    "ExecuteTime": {
     "end_time": "2024-12-03T21:44:28.949241700Z",
     "start_time": "2024-12-03T21:44:28.750240800Z"
    }
   },
   "outputs": [
    {
     "data": {
      "text/plain": "                name role country  age       id  height  weight  goals_1  \\\n0         James Neal    A     CAN   37  8471707     191      96        0   \n1       Kris Russell    D     CAN   37  8471729     178      77        0   \n2        Kyle Turris    A     CAN   35  8474068     185      86        0   \n3        Tyler Ennis    A     CAN   35  8474589     175      73        0   \n4      Alex Chiasson    A     CAN   34  8475163     193      94        6   \n...              ...  ...     ...  ...      ...     ...     ...      ...   \n1346    Shane Wright    A     CAN   20  8483524     183      87        1   \n1347      Tye Kartye    A     CAN   23  8481789     180      92        3   \n1348  Ryan Winterton    A     CAN   21  8482751     188      79        0   \n1349     Ryker Evans    D     CAN   22  8482858     183      88        0   \n1350  Logan Morrison    A     CAN   22  8483012     183      82        0   \n\n      assists_1  pim_1  ...  assists_2  pim_2 games_2  shots_2 time_2  \\\n0             0      0  ...          0      0       0        0      0   \n1             0      0  ...          0      0       0        0      0   \n2             0      0  ...          0      0       0        0      0   \n3             0      0  ...          0      0       0        0      0   \n4             3      6  ...          0      0       0        0      0   \n...         ...    ...  ...        ...    ...     ...      ...    ...   \n1346          1      2  ...          1      0       8       12  13:32   \n1347          2      2  ...          9     37      77      109  11:50   \n1348          0      0  ...          0      0       9       10   9:20   \n1349          0      0  ...          8     20      36       44  19:11   \n1350          0      0  ...          0      0       4        6  13:08   \n\n      plus_minus_2  team_2  season_1  season_2  season_3  \n0                0       0  20222023  20232024  20242025  \n1                0       0  20222023  20232024  20242025  \n2                0       0  20222023  20232024  20242025  \n3                0       0  20222023  20232024  20242025  \n4                0       0  20222023  20232024  20242025  \n...            ...     ...       ...       ...       ...  \n1346             1  Kraken  20222023  20232024  20242025  \n1347            -1  Kraken  20222023  20232024  20242025  \n1348            -1  Kraken  20222023  20232024  20242025  \n1349            -5  Kraken  20222023  20232024  20242025  \n1350            -1  Kraken  20222023  20232024  20242025  \n\n[1351 rows x 26 columns]",
      "text/html": "<div>\n<style scoped>\n    .dataframe tbody tr th:only-of-type {\n        vertical-align: middle;\n    }\n\n    .dataframe tbody tr th {\n        vertical-align: top;\n    }\n\n    .dataframe thead th {\n        text-align: right;\n    }\n</style>\n<table border=\"1\" class=\"dataframe\">\n  <thead>\n    <tr style=\"text-align: right;\">\n      <th></th>\n      <th>name</th>\n      <th>role</th>\n      <th>country</th>\n      <th>age</th>\n      <th>id</th>\n      <th>height</th>\n      <th>weight</th>\n      <th>goals_1</th>\n      <th>assists_1</th>\n      <th>pim_1</th>\n      <th>...</th>\n      <th>assists_2</th>\n      <th>pim_2</th>\n      <th>games_2</th>\n      <th>shots_2</th>\n      <th>time_2</th>\n      <th>plus_minus_2</th>\n      <th>team_2</th>\n      <th>season_1</th>\n      <th>season_2</th>\n      <th>season_3</th>\n    </tr>\n  </thead>\n  <tbody>\n    <tr>\n      <th>0</th>\n      <td>James Neal</td>\n      <td>A</td>\n      <td>CAN</td>\n      <td>37</td>\n      <td>8471707</td>\n      <td>191</td>\n      <td>96</td>\n      <td>0</td>\n      <td>0</td>\n      <td>0</td>\n      <td>...</td>\n      <td>0</td>\n      <td>0</td>\n      <td>0</td>\n      <td>0</td>\n      <td>0</td>\n      <td>0</td>\n      <td>0</td>\n      <td>20222023</td>\n      <td>20232024</td>\n      <td>20242025</td>\n    </tr>\n    <tr>\n      <th>1</th>\n      <td>Kris Russell</td>\n      <td>D</td>\n      <td>CAN</td>\n      <td>37</td>\n      <td>8471729</td>\n      <td>178</td>\n      <td>77</td>\n      <td>0</td>\n      <td>0</td>\n      <td>0</td>\n      <td>...</td>\n      <td>0</td>\n      <td>0</td>\n      <td>0</td>\n      <td>0</td>\n      <td>0</td>\n      <td>0</td>\n      <td>0</td>\n      <td>20222023</td>\n      <td>20232024</td>\n      <td>20242025</td>\n    </tr>\n    <tr>\n      <th>2</th>\n      <td>Kyle Turris</td>\n      <td>A</td>\n      <td>CAN</td>\n      <td>35</td>\n      <td>8474068</td>\n      <td>185</td>\n      <td>86</td>\n      <td>0</td>\n      <td>0</td>\n      <td>0</td>\n      <td>...</td>\n      <td>0</td>\n      <td>0</td>\n      <td>0</td>\n      <td>0</td>\n      <td>0</td>\n      <td>0</td>\n      <td>0</td>\n      <td>20222023</td>\n      <td>20232024</td>\n      <td>20242025</td>\n    </tr>\n    <tr>\n      <th>3</th>\n      <td>Tyler Ennis</td>\n      <td>A</td>\n      <td>CAN</td>\n      <td>35</td>\n      <td>8474589</td>\n      <td>175</td>\n      <td>73</td>\n      <td>0</td>\n      <td>0</td>\n      <td>0</td>\n      <td>...</td>\n      <td>0</td>\n      <td>0</td>\n      <td>0</td>\n      <td>0</td>\n      <td>0</td>\n      <td>0</td>\n      <td>0</td>\n      <td>20222023</td>\n      <td>20232024</td>\n      <td>20242025</td>\n    </tr>\n    <tr>\n      <th>4</th>\n      <td>Alex Chiasson</td>\n      <td>A</td>\n      <td>CAN</td>\n      <td>34</td>\n      <td>8475163</td>\n      <td>193</td>\n      <td>94</td>\n      <td>6</td>\n      <td>3</td>\n      <td>6</td>\n      <td>...</td>\n      <td>0</td>\n      <td>0</td>\n      <td>0</td>\n      <td>0</td>\n      <td>0</td>\n      <td>0</td>\n      <td>0</td>\n      <td>20222023</td>\n      <td>20232024</td>\n      <td>20242025</td>\n    </tr>\n    <tr>\n      <th>...</th>\n      <td>...</td>\n      <td>...</td>\n      <td>...</td>\n      <td>...</td>\n      <td>...</td>\n      <td>...</td>\n      <td>...</td>\n      <td>...</td>\n      <td>...</td>\n      <td>...</td>\n      <td>...</td>\n      <td>...</td>\n      <td>...</td>\n      <td>...</td>\n      <td>...</td>\n      <td>...</td>\n      <td>...</td>\n      <td>...</td>\n      <td>...</td>\n      <td>...</td>\n      <td>...</td>\n    </tr>\n    <tr>\n      <th>1346</th>\n      <td>Shane Wright</td>\n      <td>A</td>\n      <td>CAN</td>\n      <td>20</td>\n      <td>8483524</td>\n      <td>183</td>\n      <td>87</td>\n      <td>1</td>\n      <td>1</td>\n      <td>2</td>\n      <td>...</td>\n      <td>1</td>\n      <td>0</td>\n      <td>8</td>\n      <td>12</td>\n      <td>13:32</td>\n      <td>1</td>\n      <td>Kraken</td>\n      <td>20222023</td>\n      <td>20232024</td>\n      <td>20242025</td>\n    </tr>\n    <tr>\n      <th>1347</th>\n      <td>Tye Kartye</td>\n      <td>A</td>\n      <td>CAN</td>\n      <td>23</td>\n      <td>8481789</td>\n      <td>180</td>\n      <td>92</td>\n      <td>3</td>\n      <td>2</td>\n      <td>2</td>\n      <td>...</td>\n      <td>9</td>\n      <td>37</td>\n      <td>77</td>\n      <td>109</td>\n      <td>11:50</td>\n      <td>-1</td>\n      <td>Kraken</td>\n      <td>20222023</td>\n      <td>20232024</td>\n      <td>20242025</td>\n    </tr>\n    <tr>\n      <th>1348</th>\n      <td>Ryan Winterton</td>\n      <td>A</td>\n      <td>CAN</td>\n      <td>21</td>\n      <td>8482751</td>\n      <td>188</td>\n      <td>79</td>\n      <td>0</td>\n      <td>0</td>\n      <td>0</td>\n      <td>...</td>\n      <td>0</td>\n      <td>0</td>\n      <td>9</td>\n      <td>10</td>\n      <td>9:20</td>\n      <td>-1</td>\n      <td>Kraken</td>\n      <td>20222023</td>\n      <td>20232024</td>\n      <td>20242025</td>\n    </tr>\n    <tr>\n      <th>1349</th>\n      <td>Ryker Evans</td>\n      <td>D</td>\n      <td>CAN</td>\n      <td>22</td>\n      <td>8482858</td>\n      <td>183</td>\n      <td>88</td>\n      <td>0</td>\n      <td>0</td>\n      <td>0</td>\n      <td>...</td>\n      <td>8</td>\n      <td>20</td>\n      <td>36</td>\n      <td>44</td>\n      <td>19:11</td>\n      <td>-5</td>\n      <td>Kraken</td>\n      <td>20222023</td>\n      <td>20232024</td>\n      <td>20242025</td>\n    </tr>\n    <tr>\n      <th>1350</th>\n      <td>Logan Morrison</td>\n      <td>A</td>\n      <td>CAN</td>\n      <td>22</td>\n      <td>8483012</td>\n      <td>183</td>\n      <td>82</td>\n      <td>0</td>\n      <td>0</td>\n      <td>0</td>\n      <td>...</td>\n      <td>0</td>\n      <td>0</td>\n      <td>4</td>\n      <td>6</td>\n      <td>13:08</td>\n      <td>-1</td>\n      <td>Kraken</td>\n      <td>20222023</td>\n      <td>20232024</td>\n      <td>20242025</td>\n    </tr>\n  </tbody>\n</table>\n<p>1351 rows × 26 columns</p>\n</div>"
     },
     "execution_count": 29,
     "metadata": {},
     "output_type": "execute_result"
    }
   ],
   "source": [
    "df_pred = pd.DataFrame(pred_data)\n",
    "df_pred"
   ]
  },
  {
   "cell_type": "code",
   "execution_count": 30,
   "id": "460ee718",
   "metadata": {
    "ExecuteTime": {
     "end_time": "2024-12-03T21:44:28.949241700Z",
     "start_time": "2024-12-03T21:44:28.801243400Z"
    }
   },
   "outputs": [],
   "source": [
    "df_pred = process_data.process_data_skaters(df_pred)\n",
    "df_pred = df_pred[df_pred['role']!='N/A']"
   ]
  },
  {
   "cell_type": "code",
   "execution_count": 31,
   "id": "00f55a02",
   "metadata": {
    "ExecuteTime": {
     "end_time": "2024-12-03T21:44:28.949241700Z",
     "start_time": "2024-12-03T21:44:28.828249400Z"
    }
   },
   "outputs": [],
   "source": [
    "df_pred_final = df_pred[['name', 'games_1', 'games_2', 'goals_1', 'goals_2',\n",
    "               'height', 'pim_1',\n",
    "               'pim_2', 'plus_minus_1', 'plus_minus_2', 'role',\n",
    "               'shots_1', 'shots_2', 'time_1',\n",
    "               'time_2', 'weight', 'points_1', 'points_2', 'age']]\n",
    "\n",
    "df_pred_final = df_pred_final.fillna(0)\n",
    "df_pred_final = pd.get_dummies(df_pred_final, columns=['role'])\n",
    "\n",
    "df_pred_final = normalize_data(df_pred_final)"
   ]
  },
  {
   "cell_type": "code",
   "execution_count": 32,
   "id": "441a41a2",
   "metadata": {
    "ExecuteTime": {
     "end_time": "2024-12-03T21:44:28.952241300Z",
     "start_time": "2024-12-03T21:44:28.862241900Z"
    }
   },
   "outputs": [
    {
     "name": "stderr",
     "output_type": "stream",
     "text": [
      "C:\\Users\\guill\\AppData\\Local\\Temp\\ipykernel_34968\\1632674256.py:2: SettingWithCopyWarning: \n",
      "A value is trying to be set on a copy of a slice from a DataFrame.\n",
      "Try using .loc[row_indexer,col_indexer] = value instead\n",
      "\n",
      "See the caveats in the documentation: https://pandas.pydata.org/pandas-docs/stable/user_guide/indexing.html#returning-a-view-versus-a-copy\n",
      "  predictions['first name'] = predictions['name'].apply(lambda s: s.split(' ')[0])\n",
      "C:\\Users\\guill\\AppData\\Local\\Temp\\ipykernel_34968\\1632674256.py:3: SettingWithCopyWarning: \n",
      "A value is trying to be set on a copy of a slice from a DataFrame.\n",
      "Try using .loc[row_indexer,col_indexer] = value instead\n",
      "\n",
      "See the caveats in the documentation: https://pandas.pydata.org/pandas-docs/stable/user_guide/indexing.html#returning-a-view-versus-a-copy\n",
      "  predictions['last name'] = predictions['name'].apply(lambda s: s.split(' ')[1])\n",
      "C:\\Users\\guill\\AppData\\Local\\Temp\\ipykernel_34968\\1632674256.py:4: SettingWithCopyWarning: \n",
      "A value is trying to be set on a copy of a slice from a DataFrame.\n",
      "Try using .loc[row_indexer,col_indexer] = value instead\n",
      "\n",
      "See the caveats in the documentation: https://pandas.pydata.org/pandas-docs/stable/user_guide/indexing.html#returning-a-view-versus-a-copy\n",
      "  predictions['ppg'] = model.predict(df_pred_final.drop('name', axis=1))\n"
     ]
    }
   ],
   "source": [
    "predictions = df_pred_final[['name']]\n",
    "predictions['first name'] = predictions['name'].apply(lambda s: s.split(' ')[0])\n",
    "predictions['last name'] = predictions['name'].apply(lambda s: s.split(' ')[1])\n",
    "predictions['ppg'] = model.predict(df_pred_final.drop('name', axis=1))\n",
    "predictions = predictions.groupby(['name', 'first name', 'last name']).max().reset_index()"
   ]
  },
  {
   "cell_type": "code",
   "execution_count": 33,
   "id": "e0787dcb",
   "metadata": {
    "ExecuteTime": {
     "end_time": "2024-12-03T21:44:29.039237900Z",
     "start_time": "2024-12-03T21:44:28.894242200Z"
    }
   },
   "outputs": [
    {
     "data": {
      "text/plain": "                  name first name   last name       ppg\n936   Nathan MacKinnon     Nathan   MacKinnon  2.256528\n289     Connor McDavid     Connor     McDavid  2.153337\n975    Nikita Kucherov     Nikita    Kucherov  2.048292\n328     David Pastrnak      David    Pastrnak  1.883134\n117    Auston Matthews     Auston    Matthews  1.856871\n...                ...        ...         ...       ...\n812    Mark Borowiecki       Mark  Borowiecki -0.125518\n596       Joe Thornton        Joe    Thornton -0.125907\n84         Andy Greene       Andy      Greene -0.131125\n1028   Patrick Marleau    Patrick     Marleau -0.132486\n1348       Zdeno Chara      Zdeno       Chara -0.173928\n\n[1350 rows x 4 columns]",
      "text/html": "<div>\n<style scoped>\n    .dataframe tbody tr th:only-of-type {\n        vertical-align: middle;\n    }\n\n    .dataframe tbody tr th {\n        vertical-align: top;\n    }\n\n    .dataframe thead th {\n        text-align: right;\n    }\n</style>\n<table border=\"1\" class=\"dataframe\">\n  <thead>\n    <tr style=\"text-align: right;\">\n      <th></th>\n      <th>name</th>\n      <th>first name</th>\n      <th>last name</th>\n      <th>ppg</th>\n    </tr>\n  </thead>\n  <tbody>\n    <tr>\n      <th>936</th>\n      <td>Nathan MacKinnon</td>\n      <td>Nathan</td>\n      <td>MacKinnon</td>\n      <td>2.256528</td>\n    </tr>\n    <tr>\n      <th>289</th>\n      <td>Connor McDavid</td>\n      <td>Connor</td>\n      <td>McDavid</td>\n      <td>2.153337</td>\n    </tr>\n    <tr>\n      <th>975</th>\n      <td>Nikita Kucherov</td>\n      <td>Nikita</td>\n      <td>Kucherov</td>\n      <td>2.048292</td>\n    </tr>\n    <tr>\n      <th>328</th>\n      <td>David Pastrnak</td>\n      <td>David</td>\n      <td>Pastrnak</td>\n      <td>1.883134</td>\n    </tr>\n    <tr>\n      <th>117</th>\n      <td>Auston Matthews</td>\n      <td>Auston</td>\n      <td>Matthews</td>\n      <td>1.856871</td>\n    </tr>\n    <tr>\n      <th>...</th>\n      <td>...</td>\n      <td>...</td>\n      <td>...</td>\n      <td>...</td>\n    </tr>\n    <tr>\n      <th>812</th>\n      <td>Mark Borowiecki</td>\n      <td>Mark</td>\n      <td>Borowiecki</td>\n      <td>-0.125518</td>\n    </tr>\n    <tr>\n      <th>596</th>\n      <td>Joe Thornton</td>\n      <td>Joe</td>\n      <td>Thornton</td>\n      <td>-0.125907</td>\n    </tr>\n    <tr>\n      <th>84</th>\n      <td>Andy Greene</td>\n      <td>Andy</td>\n      <td>Greene</td>\n      <td>-0.131125</td>\n    </tr>\n    <tr>\n      <th>1028</th>\n      <td>Patrick Marleau</td>\n      <td>Patrick</td>\n      <td>Marleau</td>\n      <td>-0.132486</td>\n    </tr>\n    <tr>\n      <th>1348</th>\n      <td>Zdeno Chara</td>\n      <td>Zdeno</td>\n      <td>Chara</td>\n      <td>-0.173928</td>\n    </tr>\n  </tbody>\n</table>\n<p>1350 rows × 4 columns</p>\n</div>"
     },
     "execution_count": 33,
     "metadata": {},
     "output_type": "execute_result"
    }
   ],
   "source": [
    "predictions = predictions.sort_values('ppg', ascending=False)\n",
    "predictions"
   ]
  },
  {
   "cell_type": "code",
   "execution_count": 46,
   "outputs": [],
   "source": [
    "final_player_list = []\n",
    "for player_name in predictions['name'].unique():\n",
    "    for player in reduced_player_stats:\n",
    "        if player.name == player_name:\n",
    "            player.predict_points = predictions.loc[predictions['name']==player_name]['ppg'].item()\n",
    "            final_player_list.append(player)"
   ],
   "metadata": {
    "collapsed": false,
    "ExecuteTime": {
     "end_time": "2024-12-03T21:49:46.640310Z",
     "start_time": "2024-12-03T21:49:45.623317100Z"
    }
   },
   "id": "a2f7f71181c9ce9f"
  },
  {
   "cell_type": "code",
   "execution_count": 45,
   "outputs": [],
   "source": [
    "final_player_list = final_player_list[:100]"
   ],
   "metadata": {
    "collapsed": false,
    "ExecuteTime": {
     "end_time": "2024-12-03T21:49:42.976670200Z",
     "start_time": "2024-12-03T21:49:42.944674200Z"
    }
   },
   "id": "e7cbda846da84b61"
  },
  {
   "cell_type": "markdown",
   "source": [
    "# Branch-and-Bound Algorithm to choose the best pool team"
   ],
   "metadata": {
    "collapsed": false
   },
   "id": "8cf7801f6a7805f3"
  },
  {
   "cell_type": "code",
   "execution_count": 36,
   "outputs": [],
   "source": [
    "from pool_classifier import team_optimization_branch_and_bound, solve_problem"
   ],
   "metadata": {
    "collapsed": false,
    "ExecuteTime": {
     "end_time": "2024-12-03T21:44:30.207156500Z",
     "start_time": "2024-12-03T21:44:29.517300600Z"
    }
   },
   "id": "3f2ea2a279012374"
  },
  {
   "cell_type": "code",
   "execution_count": null,
   "outputs": [],
   "source": [
    "# resolving using LP livrary to compare results\n",
    "selected_players, total_ppg, total_salary = solve_problem(final_player_list)\n",
    "print(\"Selected Players:\", selected_players)\n",
    "print(\"Total PPG:\", total_ppg)\n",
    "print(\"Total Salary:\", total_salary)"
   ],
   "metadata": {
    "collapsed": false,
    "ExecuteTime": {
     "end_time": "2024-12-03T21:51:50.474444900Z",
     "start_time": "2024-12-03T21:51:50.473443400Z"
    }
   },
   "id": "ceff452010561138"
  },
  {
   "cell_type": "code",
   "execution_count": 47,
   "outputs": [
    {
     "ename": "KeyboardInterrupt",
     "evalue": "",
     "output_type": "error",
     "traceback": [
      "\u001B[1;31m---------------------------------------------------------------------------\u001B[0m",
      "\u001B[1;31mKeyboardInterrupt\u001B[0m                         Traceback (most recent call last)",
      "Cell \u001B[1;32mIn[47], line 1\u001B[0m\n\u001B[1;32m----> 1\u001B[0m best_team, best_ppg \u001B[38;5;241m=\u001B[39m \u001B[43mteam_optimization_branch_and_bound\u001B[49m\u001B[43m(\u001B[49m\u001B[43mfinal_player_list\u001B[49m\u001B[43m)\u001B[49m\n\u001B[0;32m      2\u001B[0m \u001B[38;5;28mprint\u001B[39m(\u001B[38;5;124m\"\u001B[39m\u001B[38;5;124mBest Team:\u001B[39m\u001B[38;5;124m\"\u001B[39m, [p\u001B[38;5;241m.\u001B[39mname \u001B[38;5;28;01mfor\u001B[39;00m p \u001B[38;5;129;01min\u001B[39;00m best_team])\n\u001B[0;32m      3\u001B[0m \u001B[38;5;28mprint\u001B[39m(\u001B[38;5;124m\"\u001B[39m\u001B[38;5;124mTotal PPG:\u001B[39m\u001B[38;5;124m\"\u001B[39m, best_ppg)\n",
      "File \u001B[1;32m~\\OneDrive - Universite de Montreal\\ML_for_LNH\\pool_classifier.py:175\u001B[0m, in \u001B[0;36mteam_optimization_branch_and_bound\u001B[1;34m(players, budget, max_roles)\u001B[0m\n\u001B[0;32m    172\u001B[0m     branch_and_bound(index \u001B[38;5;241m+\u001B[39m \u001B[38;5;241m1\u001B[39m, current_team, current_ppg, current_salary, role_counts)\n\u001B[0;32m    174\u001B[0m \u001B[38;5;66;03m# Initialize the algorithm\u001B[39;00m\n\u001B[1;32m--> 175\u001B[0m \u001B[43mbranch_and_bound\u001B[49m\u001B[43m(\u001B[49m\u001B[38;5;241;43m0\u001B[39;49m\u001B[43m,\u001B[49m\u001B[43m \u001B[49m\u001B[43m[\u001B[49m\u001B[43m]\u001B[49m\u001B[43m,\u001B[49m\u001B[43m \u001B[49m\u001B[38;5;241;43m0\u001B[39;49m\u001B[43m,\u001B[49m\u001B[43m \u001B[49m\u001B[38;5;241;43m0\u001B[39;49m\u001B[43m,\u001B[49m\u001B[43m \u001B[49m\u001B[43m{\u001B[49m\u001B[38;5;124;43m\"\u001B[39;49m\u001B[38;5;124;43mA\u001B[39;49m\u001B[38;5;124;43m\"\u001B[39;49m\u001B[43m:\u001B[49m\u001B[43m \u001B[49m\u001B[38;5;241;43m0\u001B[39;49m\u001B[43m,\u001B[49m\u001B[43m \u001B[49m\u001B[38;5;124;43m\"\u001B[39;49m\u001B[38;5;124;43mD\u001B[39;49m\u001B[38;5;124;43m\"\u001B[39;49m\u001B[43m:\u001B[49m\u001B[43m \u001B[49m\u001B[38;5;241;43m0\u001B[39;49m\u001B[43m,\u001B[49m\u001B[43m \u001B[49m\u001B[38;5;124;43m\"\u001B[39;49m\u001B[38;5;124;43mG\u001B[39;49m\u001B[38;5;124;43m\"\u001B[39;49m\u001B[43m:\u001B[49m\u001B[43m \u001B[49m\u001B[38;5;241;43m0\u001B[39;49m\u001B[43m}\u001B[49m\u001B[43m)\u001B[49m\n\u001B[0;32m    177\u001B[0m \u001B[38;5;28;01mreturn\u001B[39;00m best_team, best_ppg\n",
      "File \u001B[1;32m~\\OneDrive - Universite de Montreal\\ML_for_LNH\\pool_classifier.py:160\u001B[0m, in \u001B[0;36mteam_optimization_branch_and_bound.<locals>.branch_and_bound\u001B[1;34m(index, current_team, current_ppg, current_salary, role_counts)\u001B[0m\n\u001B[0;32m    158\u001B[0m role_counts[player\u001B[38;5;241m.\u001B[39mrole] \u001B[38;5;241m+\u001B[39m\u001B[38;5;241m=\u001B[39m \u001B[38;5;241m1\u001B[39m\n\u001B[0;32m    159\u001B[0m current_team\u001B[38;5;241m.\u001B[39mappend(player)\n\u001B[1;32m--> 160\u001B[0m \u001B[43mbranch_and_bound\u001B[49m\u001B[43m(\u001B[49m\n\u001B[0;32m    161\u001B[0m \u001B[43m    \u001B[49m\u001B[43mindex\u001B[49m\u001B[43m \u001B[49m\u001B[38;5;241;43m+\u001B[39;49m\u001B[43m \u001B[49m\u001B[38;5;241;43m1\u001B[39;49m\u001B[43m,\u001B[49m\n\u001B[0;32m    162\u001B[0m \u001B[43m    \u001B[49m\u001B[43mcurrent_team\u001B[49m\u001B[43m,\u001B[49m\n\u001B[0;32m    163\u001B[0m \u001B[43m    \u001B[49m\u001B[43mcurrent_ppg\u001B[49m\u001B[43m \u001B[49m\u001B[38;5;241;43m+\u001B[39;49m\u001B[43m \u001B[49m\u001B[43mplayer\u001B[49m\u001B[38;5;241;43m.\u001B[39;49m\u001B[43mpredict_points\u001B[49m\u001B[43m,\u001B[49m\n\u001B[0;32m    164\u001B[0m \u001B[43m    \u001B[49m\u001B[43mcurrent_salary\u001B[49m\u001B[43m \u001B[49m\u001B[38;5;241;43m+\u001B[39;49m\u001B[43m \u001B[49m\u001B[43mplayer\u001B[49m\u001B[38;5;241;43m.\u001B[39;49m\u001B[43msalary\u001B[49m\u001B[43m,\u001B[49m\n\u001B[0;32m    165\u001B[0m \u001B[43m    \u001B[49m\u001B[43mrole_counts\u001B[49m\u001B[43m,\u001B[49m\n\u001B[0;32m    166\u001B[0m \u001B[43m\u001B[49m\u001B[43m)\u001B[49m\n\u001B[0;32m    167\u001B[0m \u001B[38;5;66;03m# Backtrack: exclude the player\u001B[39;00m\n\u001B[0;32m    168\u001B[0m current_team\u001B[38;5;241m.\u001B[39mpop()\n",
      "File \u001B[1;32m~\\OneDrive - Universite de Montreal\\ML_for_LNH\\pool_classifier.py:160\u001B[0m, in \u001B[0;36mteam_optimization_branch_and_bound.<locals>.branch_and_bound\u001B[1;34m(index, current_team, current_ppg, current_salary, role_counts)\u001B[0m\n\u001B[0;32m    158\u001B[0m role_counts[player\u001B[38;5;241m.\u001B[39mrole] \u001B[38;5;241m+\u001B[39m\u001B[38;5;241m=\u001B[39m \u001B[38;5;241m1\u001B[39m\n\u001B[0;32m    159\u001B[0m current_team\u001B[38;5;241m.\u001B[39mappend(player)\n\u001B[1;32m--> 160\u001B[0m \u001B[43mbranch_and_bound\u001B[49m\u001B[43m(\u001B[49m\n\u001B[0;32m    161\u001B[0m \u001B[43m    \u001B[49m\u001B[43mindex\u001B[49m\u001B[43m \u001B[49m\u001B[38;5;241;43m+\u001B[39;49m\u001B[43m \u001B[49m\u001B[38;5;241;43m1\u001B[39;49m\u001B[43m,\u001B[49m\n\u001B[0;32m    162\u001B[0m \u001B[43m    \u001B[49m\u001B[43mcurrent_team\u001B[49m\u001B[43m,\u001B[49m\n\u001B[0;32m    163\u001B[0m \u001B[43m    \u001B[49m\u001B[43mcurrent_ppg\u001B[49m\u001B[43m \u001B[49m\u001B[38;5;241;43m+\u001B[39;49m\u001B[43m \u001B[49m\u001B[43mplayer\u001B[49m\u001B[38;5;241;43m.\u001B[39;49m\u001B[43mpredict_points\u001B[49m\u001B[43m,\u001B[49m\n\u001B[0;32m    164\u001B[0m \u001B[43m    \u001B[49m\u001B[43mcurrent_salary\u001B[49m\u001B[43m \u001B[49m\u001B[38;5;241;43m+\u001B[39;49m\u001B[43m \u001B[49m\u001B[43mplayer\u001B[49m\u001B[38;5;241;43m.\u001B[39;49m\u001B[43msalary\u001B[49m\u001B[43m,\u001B[49m\n\u001B[0;32m    165\u001B[0m \u001B[43m    \u001B[49m\u001B[43mrole_counts\u001B[49m\u001B[43m,\u001B[49m\n\u001B[0;32m    166\u001B[0m \u001B[43m\u001B[49m\u001B[43m)\u001B[49m\n\u001B[0;32m    167\u001B[0m \u001B[38;5;66;03m# Backtrack: exclude the player\u001B[39;00m\n\u001B[0;32m    168\u001B[0m current_team\u001B[38;5;241m.\u001B[39mpop()\n",
      "    \u001B[1;31m[... skipping similar frames: team_optimization_branch_and_bound.<locals>.branch_and_bound at line 160 (10 times)]\u001B[0m\n",
      "File \u001B[1;32m~\\OneDrive - Universite de Montreal\\ML_for_LNH\\pool_classifier.py:172\u001B[0m, in \u001B[0;36mteam_optimization_branch_and_bound.<locals>.branch_and_bound\u001B[1;34m(index, current_team, current_ppg, current_salary, role_counts)\u001B[0m\n\u001B[0;32m    169\u001B[0m     role_counts[player\u001B[38;5;241m.\u001B[39mrole] \u001B[38;5;241m-\u001B[39m\u001B[38;5;241m=\u001B[39m \u001B[38;5;241m1\u001B[39m\n\u001B[0;32m    171\u001B[0m \u001B[38;5;66;03m# Branch: exclude the current player\u001B[39;00m\n\u001B[1;32m--> 172\u001B[0m \u001B[43mbranch_and_bound\u001B[49m\u001B[43m(\u001B[49m\u001B[43mindex\u001B[49m\u001B[43m \u001B[49m\u001B[38;5;241;43m+\u001B[39;49m\u001B[43m \u001B[49m\u001B[38;5;241;43m1\u001B[39;49m\u001B[43m,\u001B[49m\u001B[43m \u001B[49m\u001B[43mcurrent_team\u001B[49m\u001B[43m,\u001B[49m\u001B[43m \u001B[49m\u001B[43mcurrent_ppg\u001B[49m\u001B[43m,\u001B[49m\u001B[43m \u001B[49m\u001B[43mcurrent_salary\u001B[49m\u001B[43m,\u001B[49m\u001B[43m \u001B[49m\u001B[43mrole_counts\u001B[49m\u001B[43m)\u001B[49m\n",
      "File \u001B[1;32m~\\OneDrive - Universite de Montreal\\ML_for_LNH\\pool_classifier.py:172\u001B[0m, in \u001B[0;36mteam_optimization_branch_and_bound.<locals>.branch_and_bound\u001B[1;34m(index, current_team, current_ppg, current_salary, role_counts)\u001B[0m\n\u001B[0;32m    169\u001B[0m     role_counts[player\u001B[38;5;241m.\u001B[39mrole] \u001B[38;5;241m-\u001B[39m\u001B[38;5;241m=\u001B[39m \u001B[38;5;241m1\u001B[39m\n\u001B[0;32m    171\u001B[0m \u001B[38;5;66;03m# Branch: exclude the current player\u001B[39;00m\n\u001B[1;32m--> 172\u001B[0m \u001B[43mbranch_and_bound\u001B[49m\u001B[43m(\u001B[49m\u001B[43mindex\u001B[49m\u001B[43m \u001B[49m\u001B[38;5;241;43m+\u001B[39;49m\u001B[43m \u001B[49m\u001B[38;5;241;43m1\u001B[39;49m\u001B[43m,\u001B[49m\u001B[43m \u001B[49m\u001B[43mcurrent_team\u001B[49m\u001B[43m,\u001B[49m\u001B[43m \u001B[49m\u001B[43mcurrent_ppg\u001B[49m\u001B[43m,\u001B[49m\u001B[43m \u001B[49m\u001B[43mcurrent_salary\u001B[49m\u001B[43m,\u001B[49m\u001B[43m \u001B[49m\u001B[43mrole_counts\u001B[49m\u001B[43m)\u001B[49m\n",
      "    \u001B[1;31m[... skipping similar frames: team_optimization_branch_and_bound.<locals>.branch_and_bound at line 172 (356 times), team_optimization_branch_and_bound.<locals>.branch_and_bound at line 160 (3 times)]\u001B[0m\n",
      "File \u001B[1;32m~\\OneDrive - Universite de Montreal\\ML_for_LNH\\pool_classifier.py:160\u001B[0m, in \u001B[0;36mteam_optimization_branch_and_bound.<locals>.branch_and_bound\u001B[1;34m(index, current_team, current_ppg, current_salary, role_counts)\u001B[0m\n\u001B[0;32m    158\u001B[0m role_counts[player\u001B[38;5;241m.\u001B[39mrole] \u001B[38;5;241m+\u001B[39m\u001B[38;5;241m=\u001B[39m \u001B[38;5;241m1\u001B[39m\n\u001B[0;32m    159\u001B[0m current_team\u001B[38;5;241m.\u001B[39mappend(player)\n\u001B[1;32m--> 160\u001B[0m \u001B[43mbranch_and_bound\u001B[49m\u001B[43m(\u001B[49m\n\u001B[0;32m    161\u001B[0m \u001B[43m    \u001B[49m\u001B[43mindex\u001B[49m\u001B[43m \u001B[49m\u001B[38;5;241;43m+\u001B[39;49m\u001B[43m \u001B[49m\u001B[38;5;241;43m1\u001B[39;49m\u001B[43m,\u001B[49m\n\u001B[0;32m    162\u001B[0m \u001B[43m    \u001B[49m\u001B[43mcurrent_team\u001B[49m\u001B[43m,\u001B[49m\n\u001B[0;32m    163\u001B[0m \u001B[43m    \u001B[49m\u001B[43mcurrent_ppg\u001B[49m\u001B[43m \u001B[49m\u001B[38;5;241;43m+\u001B[39;49m\u001B[43m \u001B[49m\u001B[43mplayer\u001B[49m\u001B[38;5;241;43m.\u001B[39;49m\u001B[43mpredict_points\u001B[49m\u001B[43m,\u001B[49m\n\u001B[0;32m    164\u001B[0m \u001B[43m    \u001B[49m\u001B[43mcurrent_salary\u001B[49m\u001B[43m \u001B[49m\u001B[38;5;241;43m+\u001B[39;49m\u001B[43m \u001B[49m\u001B[43mplayer\u001B[49m\u001B[38;5;241;43m.\u001B[39;49m\u001B[43msalary\u001B[49m\u001B[43m,\u001B[49m\n\u001B[0;32m    165\u001B[0m \u001B[43m    \u001B[49m\u001B[43mrole_counts\u001B[49m\u001B[43m,\u001B[49m\n\u001B[0;32m    166\u001B[0m \u001B[43m\u001B[49m\u001B[43m)\u001B[49m\n\u001B[0;32m    167\u001B[0m \u001B[38;5;66;03m# Backtrack: exclude the player\u001B[39;00m\n\u001B[0;32m    168\u001B[0m current_team\u001B[38;5;241m.\u001B[39mpop()\n",
      "    \u001B[1;31m[... skipping similar frames: team_optimization_branch_and_bound.<locals>.branch_and_bound at line 172 (40 times)]\u001B[0m\n",
      "File \u001B[1;32m~\\OneDrive - Universite de Montreal\\ML_for_LNH\\pool_classifier.py:172\u001B[0m, in \u001B[0;36mteam_optimization_branch_and_bound.<locals>.branch_and_bound\u001B[1;34m(index, current_team, current_ppg, current_salary, role_counts)\u001B[0m\n\u001B[0;32m    169\u001B[0m     role_counts[player\u001B[38;5;241m.\u001B[39mrole] \u001B[38;5;241m-\u001B[39m\u001B[38;5;241m=\u001B[39m \u001B[38;5;241m1\u001B[39m\n\u001B[0;32m    171\u001B[0m \u001B[38;5;66;03m# Branch: exclude the current player\u001B[39;00m\n\u001B[1;32m--> 172\u001B[0m \u001B[43mbranch_and_bound\u001B[49m\u001B[43m(\u001B[49m\u001B[43mindex\u001B[49m\u001B[43m \u001B[49m\u001B[38;5;241;43m+\u001B[39;49m\u001B[43m \u001B[49m\u001B[38;5;241;43m1\u001B[39;49m\u001B[43m,\u001B[49m\u001B[43m \u001B[49m\u001B[43mcurrent_team\u001B[49m\u001B[43m,\u001B[49m\u001B[43m \u001B[49m\u001B[43mcurrent_ppg\u001B[49m\u001B[43m,\u001B[49m\u001B[43m \u001B[49m\u001B[43mcurrent_salary\u001B[49m\u001B[43m,\u001B[49m\u001B[43m \u001B[49m\u001B[43mrole_counts\u001B[49m\u001B[43m)\u001B[49m\n",
      "File \u001B[1;32m~\\OneDrive - Universite de Montreal\\ML_for_LNH\\pool_classifier.py:137\u001B[0m, in \u001B[0;36mteam_optimization_branch_and_bound.<locals>.branch_and_bound\u001B[1;34m(index, current_team, current_ppg, current_salary, role_counts)\u001B[0m\n\u001B[0;32m    134\u001B[0m \u001B[38;5;28;01mnonlocal\u001B[39;00m best_team, best_ppg\n\u001B[0;32m    136\u001B[0m \u001B[38;5;66;03m# Prune if over budget or invalid role counts\u001B[39;00m\n\u001B[1;32m--> 137\u001B[0m \u001B[38;5;28;01mif\u001B[39;00m current_salary \u001B[38;5;241m>\u001B[39m \u001B[43mbudget\u001B[49m:\n\u001B[0;32m    138\u001B[0m     \u001B[38;5;28;01mreturn\u001B[39;00m\n\u001B[0;32m    139\u001B[0m \u001B[38;5;28;01mfor\u001B[39;00m role, count \u001B[38;5;129;01min\u001B[39;00m role_counts\u001B[38;5;241m.\u001B[39mitems():\n",
      "\u001B[1;31mKeyboardInterrupt\u001B[0m: "
     ]
    }
   ],
   "source": [
    "# algo branch-and-bound custom made\n",
    "best_team, best_ppg = team_optimization_branch_and_bound(final_player_list)\n",
    "print(\"Best Team:\", [p.name for p in best_team])\n",
    "print(\"Total PPG:\", best_ppg)\n",
    "print(\"Total Salary:\", sum(p.salary for p in best_team))\n",
    "pd.DataFrame(selected_players, columns=['name']).to_csv('meilleure_solution.csv')"
   ],
   "metadata": {
    "collapsed": false,
    "ExecuteTime": {
     "end_time": "2024-12-03T21:51:50.332448200Z",
     "start_time": "2024-12-03T21:49:54.357423300Z"
    }
   },
   "id": "69ffeb1549802be8"
  }
 ],
 "metadata": {
  "kernelspec": {
   "display_name": "IFT3700_Devoir2",
   "language": "python",
   "name": "python3"
  },
  "language_info": {
   "codemirror_mode": {
    "name": "ipython",
    "version": 3
   },
   "file_extension": ".py",
   "mimetype": "text/x-python",
   "name": "python",
   "nbconvert_exporter": "python",
   "pygments_lexer": "ipython3",
   "version": "3.9.20"
  }
 },
 "nbformat": 4,
 "nbformat_minor": 5
}
