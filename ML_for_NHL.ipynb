{
 "cells": [
  {
   "metadata": {
    "ExecuteTime": {
     "end_time": "2024-10-24T00:53:02.834267Z",
     "start_time": "2024-10-24T00:53:02.831445Z"
    }
   },
   "cell_type": "code",
   "source": "import pandas as pd",
   "id": "66caaaf301109be5",
   "outputs": [],
   "execution_count": 12
  },
  {
   "metadata": {
    "collapsed": true,
    "ExecuteTime": {
     "end_time": "2024-10-24T01:06:28.054603Z",
     "start_time": "2024-10-24T01:06:28.052287Z"
    }
   },
   "cell_type": "code",
   "source": [
    "# list of seasons to consider\n",
    "# year_list = ['20142015', '20152016', '20162017', '20172018', '20182019', '20192020', '20202021', '20212022', '20222023', '20232024']\n",
    "year_list = ['20202021', '20212022', '20222023', '20232024']"
   ],
   "id": "initial_id",
   "outputs": [],
   "execution_count": 17
  },
  {
   "metadata": {
    "ExecuteTime": {
     "end_time": "2024-10-24T01:06:29.160567Z",
     "start_time": "2024-10-24T01:06:29.142343Z"
    }
   },
   "cell_type": "code",
   "source": [
    "import process_data\n",
    "\n",
    "# find list of teams active between 2014 and 2024\n",
    "team_id_list = []\n",
    "for season in year_list:\n",
    "    for id in process_data.get_season_teams(season):\n",
    "        if id not in team_id_list:\n",
    "            team_id_list.append()\n",
    "team_id_list"
   ],
   "id": "b512f6f59f9748a6",
   "outputs": [
    {
     "ename": "AttributeError",
     "evalue": "module 'process_data' has no attribute 'get_season_teams'",
     "output_type": "error",
     "traceback": [
      "\u001B[0;31m---------------------------------------------------------------------------\u001B[0m",
      "\u001B[0;31mAttributeError\u001B[0m                            Traceback (most recent call last)",
      "Cell \u001B[0;32mIn[18], line 6\u001B[0m\n\u001B[1;32m      4\u001B[0m team_id_list \u001B[38;5;241m=\u001B[39m []\n\u001B[1;32m      5\u001B[0m \u001B[38;5;28;01mfor\u001B[39;00m season \u001B[38;5;129;01min\u001B[39;00m year_list:\n\u001B[0;32m----> 6\u001B[0m     \u001B[38;5;28;01mfor\u001B[39;00m \u001B[38;5;28mid\u001B[39m \u001B[38;5;129;01min\u001B[39;00m \u001B[43mprocess_data\u001B[49m\u001B[38;5;241;43m.\u001B[39;49m\u001B[43mget_season_teams\u001B[49m(season):\n\u001B[1;32m      7\u001B[0m         \u001B[38;5;28;01mif\u001B[39;00m \u001B[38;5;28mid\u001B[39m \u001B[38;5;129;01mnot\u001B[39;00m \u001B[38;5;129;01min\u001B[39;00m team_id_list:\n\u001B[1;32m      8\u001B[0m             team_id_list\u001B[38;5;241m.\u001B[39mappend()\n",
      "\u001B[0;31mAttributeError\u001B[0m: module 'process_data' has no attribute 'get_season_teams'"
     ]
    }
   ],
   "execution_count": 18
  },
  {
   "metadata": {},
   "cell_type": "code",
   "outputs": [],
   "execution_count": null,
   "source": [
    "# find list of player ids for players who played a game between 2010 and 2020\n",
    "player_id_list = []\n",
    "for team in team_id_list:\n",
    "    for season in year_list:\n",
    "        res = requests.get(\"https://statsapi.web.nhl.com/api/v1/teams/{}/?expand=team.roster&season={}\".format(team, season))\n",
    "        try:\n",
    "            for player in res.json()['teams'][0]['roster']['roster']:\n",
    "                player_id_list.append(player['person']['id'])\n",
    "        except:\n",
    "            pass\n",
    "player_id_list = set(player_id_list)"
   ],
   "id": "8c1a08fb0b2c23"
  },
  {
   "metadata": {},
   "cell_type": "code",
   "outputs": [],
   "execution_count": null,
   "source": [
    "# extract data about all players who played between 2010 and 2020, including personal data and stats from every season in the NHL during that period\n",
    "player_stats = []\n",
    "for player in player_id_list:\n",
    "    res_player = requests.get(\"https://statsapi.web.nhl.com/api/v1/people/{}\".format(player))\n",
    "    if res_player.json()['people'][0]['primaryPosition']['code'] != 'G':\n",
    "        data = {'name': res_player.json()['people'][0]['firstName'] + \" \" + res_player.json()['people'][0]['lastName'],\n",
    "                'position': res_player.json()['people'][0]['primaryPosition']['code'],\n",
    "                'country': res_player.json()['people'][0]['nationality'],\n",
    "                'birthday': res_player.json()['people'][0]['birthDate'],\n",
    "                'id': player,\n",
    "                'height': res_player.json()['people'][0]['height'],\n",
    "                'weight': res_player.json()['people'][0]['weight']}\n",
    "        res_stats = requests.get(\"https://statsapi.web.nhl.com/api/v1/people/{}/stats?stats=yearByYear\".format(player))\n",
    "        for year_stats in res_stats.json()['stats'][0]['splits']:\n",
    "            if year_stats['season'] in year_list and year_stats['league']['name'] == 'National Hockey League':\n",
    "                data[year_stats['season']] = {'goals': year_stats['stat']['goals'],\n",
    "                                              'assists': year_stats['stat']['assists'],\n",
    "                                              'pim': year_stats['stat']['pim'],\n",
    "                                              'games': year_stats['stat']['games'],\n",
    "                                              'hits': year_stats['stat']['hits'],\n",
    "                                              'shots': year_stats['stat']['shots'],\n",
    "                                              'time': year_stats['stat']['timeOnIce'], \n",
    "                                              'plus_minus': year_stats['stat']['plusMinus'],\n",
    "                                              'team': year_stats['team']['name']}\n",
    "        player_stats.append(data)"
   ],
   "id": "2cd1cac377379ba7"
  },
  {
   "metadata": {},
   "cell_type": "code",
   "outputs": [],
   "execution_count": null,
   "source": [
    "# total number of players extracted\n",
    "len(player_stats)"
   ],
   "id": "8c5cd41438c39570"
  },
  {
   "metadata": {},
   "cell_type": "code",
   "outputs": [],
   "execution_count": null,
   "source": [
    "# restrict to players who played at least 3 seasons and 100 total games\n",
    "reduced_player_stats = []\n",
    "for temp in player_stats:\n",
    "    games = 0\n",
    "    years = 0\n",
    "    for year in year_list:\n",
    "        if year in temp.keys():\n",
    "            games += temp[year]['games']\n",
    "            years += 1\n",
    "    if years >= 3 and games > 100:\n",
    "        reduced_player_stats.append(temp)"
   ],
   "id": "fa64daed026a2900"
  },
  {
   "metadata": {},
   "cell_type": "code",
   "outputs": [],
   "execution_count": null,
   "source": [
    "# number of players with at least 3 seasons and 100 games\n",
    "len(reduced_player_stats)"
   ],
   "id": "583ad0adc747c096"
  },
  {
   "metadata": {},
   "cell_type": "code",
   "outputs": [],
   "execution_count": null,
   "source": [
    "# function to extract the stats in the dict for a specific year and return zeros if the year is not there\n",
    "def get_year_data(player, year, index):\n",
    "    if year in player.keys():\n",
    "        return {key+'_'+index:val for key,val in player[year].items()}\n",
    "    else:\n",
    "        return {'goals_'+index: 0,\n",
    "                'assists_'+index: 0,\n",
    "                'pim_'+index: 0,\n",
    "                'games_'+index: 0,\n",
    "                'hits_'+index: 0,\n",
    "                'shots_'+index: 0,\n",
    "                'time_'+index: 0,\n",
    "                'plus_minus_'+index: 0}"
   ],
   "id": "207770e43b7069f"
  },
  {
   "metadata": {},
   "cell_type": "code",
   "outputs": [],
   "execution_count": null,
   "source": [
    "# create data for prediction, with every possible set of 2 consecutive seasons to predict the 3rd one\n",
    "split_data = []\n",
    "for player in reduced_player_stats:\n",
    "    for i in range(8):\n",
    "        years = year_list[i:i+3]\n",
    "        if years[2] in player.keys():\n",
    "            data = {key:player[key] for key in player.keys() if key not in year_list}\n",
    "            data = {**data, **get_year_data(player, years[0], '1'), **get_year_data(player, years[1], '2')}\n",
    "            data['season_1'] = years[0]\n",
    "            data['season_2'] = years[1]\n",
    "            data['season_3'] = years[2]\n",
    "            data['ppg_3'] = (player[years[2]]['goals'] +  player[years[2]]['assists']) /   player[years[2]]['games']\n",
    "            split_data.append(data)"
   ],
   "id": "d3a391e7013d581"
  },
  {
   "metadata": {},
   "cell_type": "code",
   "outputs": [],
   "execution_count": null,
   "source": [
    "# transform the data into a pandas dtaframe for processing\n",
    "df = pd.DataFrame(split_data)\n",
    "df"
   ],
   "id": "f8f5d13367c2fb65"
  },
  {
   "metadata": {},
   "cell_type": "code",
   "outputs": [],
   "execution_count": null,
   "source": "",
   "id": "9ffbb7bc56cce4a5"
  }
 ],
 "metadata": {
  "kernelspec": {
   "display_name": "Python 3",
   "language": "python",
   "name": "python3"
  },
  "language_info": {
   "codemirror_mode": {
    "name": "ipython",
    "version": 2
   },
   "file_extension": ".py",
   "mimetype": "text/x-python",
   "name": "python",
   "nbconvert_exporter": "python",
   "pygments_lexer": "ipython2",
   "version": "2.7.6"
  }
 },
 "nbformat": 4,
 "nbformat_minor": 5
}
